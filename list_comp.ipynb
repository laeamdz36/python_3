{
 "cells": [
  {
   "cell_type": "code",
   "execution_count": 2,
   "metadata": {},
   "outputs": [
    {
     "name": "stdout",
     "output_type": "stream",
     "text": [
      "[['Hola Luis'], ['Hola Matias'], ['Hola Lorena']]\n"
     ]
    }
   ],
   "source": [
    "list = [[\"Hola \"+ name] for name in [\"Luis\",\"Matias\",\"Lorena\"]]\n",
    "print(list)"
   ]
  },
  {
   "cell_type": "code",
   "execution_count": 10,
   "metadata": {},
   "outputs": [
    {
     "name": "stdout",
     "output_type": "stream",
     "text": [
      "3\n",
      "2\n",
      "3.5\n"
     ]
    }
   ],
   "source": [
    "intPart = 14 // 4 # operator // performs floor operation\n",
    "resPart = 14 % 4 # operation % takes residue\n",
    "totalPart = 14 / 4\n",
    "print(intPart)\n",
    "print(resPart)\n",
    "print(totalPart)"
   ]
  },
  {
   "cell_type": "code",
   "execution_count": 13,
   "metadata": {},
   "outputs": [
    {
     "data": {
      "text/plain": [
       "'python'"
      ]
     },
     "execution_count": 13,
     "metadata": {},
     "output_type": "execute_result"
    }
   ],
   "source": [
    "message = \"py\" \"thon\"\n",
    "message"
   ]
  },
  {
   "cell_type": "code",
   "execution_count": 10,
   "metadata": {},
   "outputs": [
    {
     "name": "stdout",
     "output_type": "stream",
     "text": [
      "laidnum odnum dlrow olleH\n"
     ]
    }
   ],
   "source": [
    "# reverse encipter\n",
    "\n",
    "message = \"Hello world mundo mundial\"\n",
    "translated = \"\"\n",
    "\n",
    "i = len(message) - 1\n",
    "\n",
    "while i >= 0:\n",
    "    translated = translated + message[i]\n",
    "    i -= 1\n",
    "\n",
    "print(translated)"
   ]
  },
  {
   "cell_type": "code",
   "execution_count": null,
   "metadata": {},
   "outputs": [],
   "source": [
    "# practica de encripart\n",
    "\n",
    "par1 = 3\n",
    "par2 = 7\n",
    "\n",
    "translated = \"\"\n",
    "\n",
    "text = \"texto a encriptar por la funcion de encriptacion que encripta\"\n",
    "\n",
    "txt_l = len(text) -1\n",
    "\n",
    "while txt_l > 0:\n",
    "\n"
   ]
  }
 ],
 "metadata": {
  "kernelspec": {
   "display_name": "Python 3",
   "language": "python",
   "name": "python3"
  },
  "language_info": {
   "codemirror_mode": {
    "name": "ipython",
    "version": 3
   },
   "file_extension": ".py",
   "mimetype": "text/x-python",
   "name": "python",
   "nbconvert_exporter": "python",
   "pygments_lexer": "ipython3",
   "version": "3.11.4"
  }
 },
 "nbformat": 4,
 "nbformat_minor": 2
}
