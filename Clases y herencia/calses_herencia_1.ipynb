{
 "cells": [
  {
   "cell_type": "code",
   "execution_count": 15,
   "metadata": {},
   "outputs": [],
   "source": [
    "# crear una clase, utilizar class\n",
    "# Crear el plan de un usuario\n",
    "\n",
    "class Usuario:\n",
    "    def __init__(self,nombre,apellido):\n",
    "        self.nombre = nombre\n",
    "        self.apellido = apellido\n",
    "\n",
    "    def greeting(self):\n",
    "\n",
    "        print(f\"Hola mi nombre es {self.nombre} {self.apellido}\")"
   ]
  },
  {
   "cell_type": "code",
   "execution_count": 17,
   "metadata": {},
   "outputs": [],
   "source": [
    "#Instanciacion de la clase creada arriba\n",
    "user1 = Usuario(\"Luis\",\"Mendez\")\n",
    "user2 = Usuario(\"Abigail\",\"Perez\")"
   ]
  },
  {
   "cell_type": "code",
   "execution_count": 18,
   "metadata": {},
   "outputs": [
    {
     "name": "stdout",
     "output_type": "stream",
     "text": [
      "Hola mi nombre es Luis Mendez\n"
     ]
    }
   ],
   "source": [
    "user1.greeting()"
   ]
  }
 ],
 "metadata": {
  "kernelspec": {
   "display_name": "Python 3",
   "language": "python",
   "name": "python3"
  },
  "language_info": {
   "codemirror_mode": {
    "name": "ipython",
    "version": 3
   },
   "file_extension": ".py",
   "mimetype": "text/x-python",
   "name": "python",
   "nbconvert_exporter": "python",
   "pygments_lexer": "ipython3",
   "version": "3.11.4"
  }
 },
 "nbformat": 4,
 "nbformat_minor": 2
}
