{
 "cells": [
  {
   "cell_type": "code",
   "execution_count": null,
   "metadata": {},
   "outputs": [],
   "source": [
    "import socket\n",
    "\n",
    "def main():\n",
    "    direcciones = {\"Luis\":\"C36\",\"Miriam\":\"C47,\",\"Lorena\":\"C50\"}\n",
    "\n",
    "    print(\"Starting server\")\n",
    "    sock = socket.socket(socket.AF_INET,socket.SOCK_STREAM)\n",
    "\n",
    "    print(\"Bind the socket to the port\")\n",
    "    server_add = (socket.gethostbyname(),8084)\n",
    "    print(\"starting on \",server_add)\n",
    "    sock.bind(server_add)\n",
    "    print(\"Listen for incoming connections\")\n",
    "    sock.listen(1)\n",
    "    while True:\n",
    "        print(\"Waiting for connection\")\n",
    "        connection, client_address = sock.accept()"
   ]
  }
 ],
 "metadata": {
  "language_info": {
   "name": "python"
  }
 },
 "nbformat": 4,
 "nbformat_minor": 2
}
