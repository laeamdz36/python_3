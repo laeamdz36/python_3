{
 "cells": [
  {
   "cell_type": "code",
   "execution_count": 1,
   "metadata": {},
   "outputs": [],
   "source": [
    "import random as rd"
   ]
  },
  {
   "cell_type": "code",
   "execution_count": 14,
   "metadata": {},
   "outputs": [],
   "source": [
    "def printTimesname(name,/,last=\"None\"):\n",
    "    \"\"\"En esta funcion se declara solo un argunemto posicional y l0s restantes son keyword\"\"\"\n",
    "    print(f\"Argumento posicional -> {name}\")\n",
    "    print(f\"Argumento keyword -> {last}\")\n",
    "\n",
    "    print(name.title(),last.title(),sep=\" \")"
   ]
  },
  {
   "cell_type": "code",
   "execution_count": 10,
   "metadata": {},
   "outputs": [
    {
     "ename": "TypeError",
     "evalue": "printTimesname() missing 1 required positional argument: 'name'",
     "output_type": "error",
     "traceback": [
      "\u001b[1;31m---------------------------------------------------------------------------\u001b[0m",
      "\u001b[1;31mTypeError\u001b[0m                                 Traceback (most recent call last)",
      "Cell \u001b[1;32mIn[10], line 1\u001b[0m\n\u001b[1;32m----> 1\u001b[0m \u001b[43mprintTimesname\u001b[49m\u001b[43m(\u001b[49m\u001b[43mlast\u001b[49m\u001b[38;5;241;43m=\u001b[39;49m\u001b[38;5;124;43m\"\u001b[39;49m\u001b[38;5;124;43mPeña\u001b[39;49m\u001b[38;5;124;43m\"\u001b[39;49m\u001b[43m)\u001b[49m\n",
      "\u001b[1;31mTypeError\u001b[0m: printTimesname() missing 1 required positional argument: 'name'"
     ]
    }
   ],
   "source": [
    "# si solo se declara un argumento keyword, arrojara error\n",
    "# ya que falta un argumento posicional\n",
    "printTimesname(last=\"Peña\")"
   ]
  },
  {
   "cell_type": "code",
   "execution_count": 27,
   "metadata": {},
   "outputs": [
    {
     "name": "stdout",
     "output_type": "stream",
     "text": [
      "Argumento posicional -> jose\n",
      "Argumento keyword -> Luis\n",
      "Jose Luis\n",
      "Argumento posicional -> jose\n",
      "Argumento keyword -> Luis\n",
      "Jose Luis\n"
     ]
    }
   ],
   "source": [
    "printTimesname(\"jose\",\"Luis\")\n",
    "printTimesname(\"jose\",\"Luis\")"
   ]
  },
  {
   "cell_type": "markdown",
   "metadata": {},
   "source": [
    "# Only keyword parameters"
   ]
  },
  {
   "cell_type": "code",
   "execution_count": 22,
   "metadata": {},
   "outputs": [],
   "source": [
    "#definiendo funcion que solicita edad, primer nombre y apellido\n",
    "\n",
    "def getUserData(*,age,name,lastName):\n",
    "    try:\n",
    "        if age > 0 and age.isinstance(\"int\"):\n",
    "\n",
    "            age_txt = f\"Tu edad es {age}\"\n",
    "            name_txt = f\"Tu edad es {name}\"\n",
    "            lastname_txt = f\"Tu apellido es {lastName}\"\n",
    "            print(age_txt,name_txt,lastname_txt,sep=\"\\n\")\n",
    "        else:\n",
    "            print(\"Ingresa una edad válida\")\n",
    "\n",
    "    except TypeError:\n",
    "        print(\"Faltan mas datos, ingresa los datos completos\")\n"
   ]
  },
  {
   "cell_type": "code",
   "execution_count": 25,
   "metadata": {},
   "outputs": [
    {
     "name": "stdout",
     "output_type": "stream",
     "text": [
      "Faltan mas datos, ingresa informacion completa!!!\n"
     ]
    }
   ],
   "source": [
    "try:\n",
    "    # Se evalua excepcion, si no se ingresan los argumentos completos\n",
    "    # se dispara excepcion TypeError\n",
    "    getUserData(age=30)\n",
    "except TypeError:\n",
    "    # Cuando surga excepcion, mostrar mensaje avisando que se ingrese informacion completa\n",
    "    print(\"Faltan mas datos, ingresa informacion completa!!!\")"
   ]
  },
  {
   "cell_type": "code",
   "execution_count": 28,
   "metadata": {},
   "outputs": [],
   "source": [
    "# Modificando la funcion mezclando los tipos de restricciones de los argumentos\n",
    "\n",
    "# en esta funcion, age es only positional argument\n",
    "# name es ambos, tanto posicional only o keyword only, pero debe de estar despues del primer\n",
    "    # positional only argument\n",
    "# lastname es keyword only argument\n",
    "def printuserDataV2(age=0,/,name=\"None\",*,lastName=\"None\"):\n",
    "\n",
    "    if age != 0:\n",
    "        age_txt = f\"Tu edad ingresada -> {age}\"\n",
    "        name_txt = f\"Tu nombre ingresado {name.title()}\"\n",
    "        lastName_txt = f\"Tu apellido ingresado {lastName.title()}\"\n",
    "\n",
    "        print(age_txt,name_txt,lastName_txt,sep=\"\\n\")\n",
    "    else:\n",
    "        print(\"Ingresa una edad valida\")"
   ]
  },
  {
   "cell_type": "code",
   "execution_count": 33,
   "metadata": {},
   "outputs": [
    {
     "name": "stdout",
     "output_type": "stream",
     "text": [
      "Tu edad ingresada -> 30\n",
      "Tu nombre ingresado Jose\n",
      "Tu apellido ingresado Peña\n",
      "Tu edad ingresada -> 30\n",
      "Tu nombre ingresado Jose\n",
      "Tu apellido ingresado Peña\n"
     ]
    }
   ],
   "source": [
    "printuserDataV2(30,\"Jose\",lastName=\"Peña\")\n",
    "printuserDataV2(30,name=\"Jose\",lastName=\"Peña\")"
   ]
  },
  {
   "cell_type": "markdown",
   "metadata": {},
   "source": [
    "# Closure function"
   ]
  },
  {
   "cell_type": "code",
   "execution_count": 37,
   "metadata": {},
   "outputs": [],
   "source": [
    "def make_dice_cup(sides=6,dice=1):\n",
    "\n",
    "    # funcion no terminada, los closure son funciones que memorizan estados de una funcion\n",
    "    # La clave esta en usar una variable con la declaracion \"nonlocal\"\n",
    "    def roll():\n",
    "        nonlocal sides\n",
    "        return tuple(rd.randint(1,sides) for n in range(dice))\n",
    "    \n",
    "    return roll"
   ]
  },
  {
   "cell_type": "markdown",
   "metadata": {},
   "source": [
    "# Lambdas"
   ]
  },
  {
   "cell_type": "code",
   "execution_count": 39,
   "metadata": {},
   "outputs": [
    {
     "name": "stdout",
     "output_type": "stream",
     "text": [
      "22\n"
     ]
    }
   ],
   "source": [
    "add = lambda x,y : x + y\n",
    "\n",
    "resuult = add(10,12)\n",
    "print(resuult)"
   ]
  },
  {
   "cell_type": "code",
   "execution_count": 3,
   "metadata": {},
   "outputs": [
    {
     "name": "stdout",
     "output_type": "stream",
     "text": [
      "Hola mundo\n",
      "Success\n"
     ]
    }
   ],
   "source": [
    "heatl = 10\n",
    "xp = 10\n",
    "\n",
    "def printAction(textToPrint):\n",
    "\n",
    "    print(textToPrint)\n",
    "\n",
    "def attempt(action,min_roll,outcome):\n",
    "\n",
    "    outcome(action)\n",
    "    dice = rd.randint(1,20)\n",
    "\n",
    "    if dice >= min_roll:\n",
    "        print(f\"Success -> {dice}\")\n",
    "    else:\n",
    "        print(f\"No success -> {dice}\")\n",
    "\n",
    "attempt(\"Hola mundo\",5,printAction)"
   ]
  },
  {
   "cell_type": "code",
   "execution_count": 7,
   "metadata": {},
   "outputs": [
    {
     "name": "stdout",
     "output_type": "stream",
     "text": [
      "<function printSelection.<locals>.<lambda> at 0x0000020C98F3EE80>\n"
     ]
    }
   ],
   "source": [
    "# lambda practice\n",
    "\n",
    "def printSelection():\n",
    "\n",
    "    user_input = input(\"Ingrese sseleccion\")\n",
    "    if user_input.lower() == \"yes\":\n",
    "\n",
    "        selected = True\n",
    "    result = lambda selected : \"yes\" if selected else \"No\"\n",
    "    print(result)\n",
    "\n",
    "printSelection()"
   ]
  },
  {
   "cell_type": "code",
   "execution_count": 7,
   "metadata": {},
   "outputs": [
    {
     "name": "stdout",
     "output_type": "stream",
     "text": [
      "{1: 'Imprimir Hola mundo', 2: 'Agregar numero', 3: 'Obtener numero', 4: 'Obtener fecha actual'}\n"
     ]
    }
   ],
   "source": [
    "from pathlib import Path\n",
    "import json\n",
    "\n",
    "fileName = \"menu.json\"\n",
    "outPath = Path(\"./\"+fileName)\n",
    "\n",
    "cmd_list = [\"Imprimir Hola mundo\",\"Agregar numero\",\"Obtener numero\",\"Obtener fecha actual\"]\n",
    "cmd_dict = {(i+1):menu for i,menu in enumerate(cmd_list)}\n",
    "print(cmd_dict)\n",
    "\n",
    "with open(\"menu_json.json\",\"w\") as jsonfile:\n",
    "    json.dump(cmd_dict,jsonfile)"
   ]
  },
  {
   "cell_type": "code",
   "execution_count": 9,
   "metadata": {},
   "outputs": [
    {
     "name": "stdout",
     "output_type": "stream",
     "text": [
      "{'1': 'Imprimir Hola mundo', '2': 'Agregar numero', '3': 'Obtener numero', '4': 'Obtener fecha actual'}\n"
     ]
    }
   ],
   "source": [
    "with open(\"menu_json.json\",\"r\") as jsonmenu:\n",
    "    menu_read = json.load(jsonmenu)\n",
    "\n",
    "print(menu_read)"
   ]
  },
  {
   "cell_type": "code",
   "execution_count": 4,
   "metadata": {},
   "outputs": [
    {
     "name": "stdout",
     "output_type": "stream",
     "text": [
      "{1, 2, 3, 4}\n"
     ]
    }
   ],
   "source": [
    "conj = {1,1,2,3,4}\n",
    "conj.update([1,1,1,1,1,1])\n",
    "type(conj)\n",
    "print(conj)"
   ]
  },
  {
   "cell_type": "code",
   "execution_count": 5,
   "metadata": {},
   "outputs": [],
   "source": [
    "from collections import Counter\n",
    "\n",
    "count1 = Counter()"
   ]
  },
  {
   "cell_type": "code",
   "execution_count": null,
   "metadata": {},
   "outputs": [],
   "source": [
    "wordsList = [\"A\",\"A\",\"B\",\"B\",\"C\",\"D\",\"1\",\"3\",\"3\"]\n",
    "\n"
   ]
  }
 ],
 "metadata": {
  "kernelspec": {
   "display_name": "Python 3",
   "language": "python",
   "name": "python3"
  },
  "language_info": {
   "codemirror_mode": {
    "name": "ipython",
    "version": 3
   },
   "file_extension": ".py",
   "mimetype": "text/x-python",
   "name": "python",
   "nbconvert_exporter": "python",
   "pygments_lexer": "ipython3",
   "version": "3.11.4"
  }
 },
 "nbformat": 4,
 "nbformat_minor": 2
}
