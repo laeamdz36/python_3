{
 "cells": [
  {
   "cell_type": "code",
   "execution_count": 5,
   "metadata": {},
   "outputs": [],
   "source": [
    "import os\n",
    "import pandas as pd\n",
    "import datetime as dt\n",
    "import calendar\n",
    "from pathlib import Path\n",
    "from dateutil import parser"
   ]
  },
  {
   "cell_type": "code",
   "execution_count": 14,
   "metadata": {},
   "outputs": [
    {
     "name": "stdout",
     "output_type": "stream",
     "text": [
      "c:\\Users\\Automation\\Documents\\python\\Funtional programming\n",
      "4\n",
      "Mon Tue Wed Thu Fri Sat Sun\n",
      "1\n",
      "2\n",
      "3\n",
      "4\n",
      "5\n",
      "6\n",
      "7\n",
      "1\n",
      "2\n",
      "3\n",
      "4\n",
      "5\n",
      "6\n",
      "7\n",
      "1\n",
      "2\n",
      "3\n",
      "4\n",
      "5\n",
      "6\n",
      "7\n",
      "1\n",
      "2\n",
      "3\n",
      "4\n",
      "5\n",
      "6\n",
      "7\n",
      "1\n",
      "2\n",
      "3\n",
      "4\n",
      "5\n",
      "6\n",
      "7\n",
      "<calendar.Calendar object at 0x000002A8A2601AD0>\n",
      "<class 'str'>\n",
      "c:\\Users\\Automation\\Documents\\python\\Funtional programming\\2024-01-01\n"
     ]
    }
   ],
   "source": [
    "def showDisp(text):\n",
    "\n",
    "    print(text)\n",
    "\n",
    "print(os.getcwd())\n",
    "year = 2024\n",
    "month = 1\n",
    "#\n",
    "date_builded = dt.date(year=year,month=month,day=1)\n",
    "print(calendar.FRIDAY)\n",
    "print(calendar.weekheader(3))\n",
    "header = calendar.weekheader(3)\n",
    "header_lis = header.split(\" \")\n",
    "\n",
    "cal_enero = calendar.Calendar(firstweekday=0)\n",
    "\n",
    "for day in cal_enero.itermonthdates(2024,1):\n",
    "    \n",
    "    print(day.isoweekday())\n",
    "print(cal_enero)\n",
    "\n",
    "print(type(header))\n",
    "parentFolder = os.path.join(os.getcwd(),str(date_builded))\n",
    "print(parentFolder)"
   ]
  },
  {
   "cell_type": "code",
   "execution_count": 21,
   "metadata": {},
   "outputs": [
    {
     "name": "stdout",
     "output_type": "stream",
     "text": [
      "L1 - Robot Router\n",
      "L1 - Rotomat 11\n",
      "L2 - Canon A\n",
      "L2 - Canon B\n",
      "L3 - PG CND\n",
      "L3 - Canon D\n",
      "L4 - PGXL\n",
      "L4 - Canon G\n"
     ]
    }
   ],
   "source": [
    "df = pd.read_csv(Path(\"./data/eq_data.csv\"))\n",
    "for line in df[\"Linea\"].unique():\n",
    "    for equip in df[df[\"Linea\"] == line].loc[:,\"Panel\"]:\n",
    "        print(f\"{line} - {equip}\")"
   ]
  },
  {
   "cell_type": "code",
   "execution_count": null,
   "metadata": {},
   "outputs": [],
   "source": [
    "df[df[\"Linea\"] == ]"
   ]
  }
 ],
 "metadata": {
  "kernelspec": {
   "display_name": "Python 3",
   "language": "python",
   "name": "python3"
  },
  "language_info": {
   "codemirror_mode": {
    "name": "ipython",
    "version": 3
   },
   "file_extension": ".py",
   "mimetype": "text/x-python",
   "name": "python",
   "nbconvert_exporter": "python",
   "pygments_lexer": "ipython3",
   "version": "3.11.4"
  }
 },
 "nbformat": 4,
 "nbformat_minor": 2
}
