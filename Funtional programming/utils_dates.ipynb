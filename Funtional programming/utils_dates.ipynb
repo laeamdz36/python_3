{
 "cells": [
  {
   "cell_type": "code",
   "execution_count": 15,
   "metadata": {},
   "outputs": [],
   "source": [
    "import datetime as dt\n",
    "import os"
   ]
  },
  {
   "cell_type": "code",
   "execution_count": 7,
   "metadata": {},
   "outputs": [
    {
     "name": "stdout",
     "output_type": "stream",
     "text": [
      "2024-03-15\n"
     ]
    }
   ],
   "source": [
    "format = (\"%Y%m%d\")\n",
    "user_date = input(\"Ingrese fecha formato YYYY-MM-DD: \")\n",
    "try:\n",
    "    date = dt.datetime.strptime(user_date,format)\n",
    "except ValueError as err:\n",
    "    print(f\"Fecha invalida {err}\")\n",
    "\n",
    "date_str = date.strftime(\"%Y-%m-%d\")\n",
    "print(date_str)"
   ]
  },
  {
   "cell_type": "code",
   "execution_count": 11,
   "metadata": {},
   "outputs": [
    {
     "name": "stdout",
     "output_type": "stream",
     "text": [
      "<class 'datetime.datetime'>\n"
     ]
    }
   ],
   "source": [
    "date_1 = \"\"\n",
    "\n",
    "date_1 = dt.datetime.today()\n",
    "\n",
    "print(type(date_1))\n"
   ]
  },
  {
   "cell_type": "code",
   "execution_count": 12,
   "metadata": {},
   "outputs": [
    {
     "name": "stdout",
     "output_type": "stream",
     "text": [
      "Vacio\n"
     ]
    }
   ],
   "source": [
    "texto = \"\"\n",
    "\n",
    "if texto:\n",
    "    print(\"hay texto\")\n",
    "print(\"Vacio\")"
   ]
  },
  {
   "cell_type": "code",
   "execution_count": 14,
   "metadata": {},
   "outputs": [
    {
     "name": "stdout",
     "output_type": "stream",
     "text": [
      "/2024/03/2024-03-26\n"
     ]
    }
   ],
   "source": [
    "parent_dir = ['2024', '03', '2024-03-26']\n",
    "aux_path = \"/\" + \"/\".join(parent_dir)\n",
    "\n",
    "print(aux_path)"
   ]
  },
  {
   "cell_type": "code",
   "execution_count": 16,
   "metadata": {},
   "outputs": [
    {
     "name": "stdout",
     "output_type": "stream",
     "text": [
      "c:\\Users\\Automation\\Documents\\python\\Funtional programming\n"
     ]
    }
   ],
   "source": [
    "print(os.getcwd())"
   ]
  }
 ],
 "metadata": {
  "kernelspec": {
   "display_name": "Python 3",
   "language": "python",
   "name": "python3"
  },
  "language_info": {
   "codemirror_mode": {
    "name": "ipython",
    "version": 3
   },
   "file_extension": ".py",
   "mimetype": "text/x-python",
   "name": "python",
   "nbconvert_exporter": "python",
   "pygments_lexer": "ipython3",
   "version": "3.11.4"
  }
 },
 "nbformat": 4,
 "nbformat_minor": 2
}
