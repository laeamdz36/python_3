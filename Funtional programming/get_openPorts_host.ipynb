{
 "cells": [
  {
   "cell_type": "code",
   "execution_count": 2,
   "metadata": {},
   "outputs": [],
   "source": [
    "import nmap"
   ]
  },
  {
   "cell_type": "code",
   "execution_count": 15,
   "metadata": {},
   "outputs": [
    {
     "name": "stdout",
     "output_type": "stream",
     "text": [
      "Host:  192.168.0.1\n",
      "State:  up\n",
      "Host:  192.168.0.10\n",
      "State:  up\n",
      "Host:  192.168.0.11\n",
      "State:  up\n",
      "Host:  192.168.0.12\n",
      "State:  up\n",
      "Host:  192.168.0.13\n",
      "State:  up\n",
      "Host:  192.168.0.14\n",
      "State:  up\n",
      "Host:  192.168.0.15\n",
      "State:  up\n",
      "Host:  192.168.0.17\n",
      "State:  up\n",
      "Host:  192.168.0.18\n",
      "State:  up\n",
      "Host:  192.168.0.2\n",
      "State:  up\n",
      "Host:  192.168.0.252\n",
      "State:  up\n",
      "Host:  192.168.0.3\n",
      "State:  up\n",
      "Host:  192.168.0.4\n",
      "State:  up\n",
      "Host:  192.168.0.6\n",
      "State:  up\n",
      "Host:  192.168.0.7\n",
      "State:  up\n",
      "Host:  192.168.0.8\n",
      "State:  up\n",
      "Host:  192.168.0.9\n",
      "State:  up\n"
     ]
    }
   ],
   "source": [
    "scanner = nmap.PortScanner()\n",
    "\n",
    "# Define target IP address or hostname\n",
    "target = \"192.168.0.1/24\"\n",
    "\n",
    "# Define Nmap options\n",
    "options = \"-sS -sV -O -A -p 1-1000\"\n",
    "options_1 = \"-sP\"\n",
    "\n",
    "# Run the Nmap scan with the specified options\n",
    "scanner.scan(target, arguments=options_1)\n",
    "\n",
    "# Print the scan results\n",
    "for host in scanner.all_hosts():\n",
    "    print(\"Host: \", host)\n",
    "    print(\"State: \", scanner[host].state())\n",
    "    for proto in scanner[host].all_protocols():\n",
    "        print(\"Protocol: \", proto)\n",
    "        ports = scanner[host][proto].keys()\n",
    "        for port in ports:\n",
    "            print(\"Port: \", port, \"State: \", scanner[host][proto][port]['state'])\n",
    "            print(scanner[host]['addresses']['mac'])"
   ]
  },
  {
   "cell_type": "code",
   "execution_count": 7,
   "metadata": {},
   "outputs": [
    {
     "name": "stdout",
     "output_type": "stream",
     "text": [
      "['__add__', '__class__', '__class_getitem__', '__contains__', '__delattr__', '__delitem__', '__dir__', '__doc__', '__eq__', '__format__', '__ge__', '__getattribute__', '__getitem__', '__getstate__', '__gt__', '__hash__', '__iadd__', '__imul__', '__init__', '__init_subclass__', '__iter__', '__le__', '__len__', '__lt__', '__mul__', '__ne__', '__new__', '__reduce__', '__reduce_ex__', '__repr__', '__reversed__', '__rmul__', '__setattr__', '__setitem__', '__sizeof__', '__str__', '__subclasshook__', 'append', 'clear', 'copy', 'count', 'extend', 'index', 'insert', 'pop', 'remove', 'reverse', 'sort']\n"
     ]
    }
   ],
   "source": []
  }
 ],
 "metadata": {
  "kernelspec": {
   "display_name": "Python 3",
   "language": "python",
   "name": "python3"
  },
  "language_info": {
   "codemirror_mode": {
    "name": "ipython",
    "version": 3
   },
   "file_extension": ".py",
   "mimetype": "text/x-python",
   "name": "python",
   "nbconvert_exporter": "python",
   "pygments_lexer": "ipython3",
   "version": "3.11.4"
  }
 },
 "nbformat": 4,
 "nbformat_minor": 2
}
