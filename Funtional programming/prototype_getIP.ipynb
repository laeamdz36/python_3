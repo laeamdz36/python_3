{
 "cells": [
  {
   "cell_type": "code",
   "execution_count": 1,
   "metadata": {},
   "outputs": [],
   "source": [
    "import nmap"
   ]
  },
  {
   "cell_type": "code",
   "execution_count": null,
   "metadata": {},
   "outputs": [],
   "source": [
    "\"\"\"Modulo nmap escanea puertos y puede devolver iformacion importante como direccion IP, mac y estatus y down\"\"\""
   ]
  },
  {
   "cell_type": "code",
   "execution_count": 6,
   "metadata": {},
   "outputs": [],
   "source": [
    "# pars\n",
    "ip_range = \"192.168.0.1/24\"\n",
    "mac = \"E4:C3:2A:03:8B:F0\""
   ]
  },
  {
   "cell_type": "code",
   "execution_count": 7,
   "metadata": {},
   "outputs": [],
   "source": [
    "nm = nmap.PortScanner()\n",
    "\n",
    "nm.scan(hosts=ip_range, arguments='-sP')\n",
    "\n",
    "host_list = nm.all_hosts()"
   ]
  },
  {
   "cell_type": "code",
   "execution_count": 9,
   "metadata": {},
   "outputs": [
    {
     "name": "stdout",
     "output_type": "stream",
     "text": [
      "{'hostnames': [{'name': '', 'type': ''}], 'addresses': {'ipv4': '192.168.0.1', 'mac': '88:71:B1:A1:22:02'}, 'vendor': {'88:71:B1:A1:22:02': 'Arris Group'}, 'status': {'state': 'up', 'reason': 'arp-response'}}\n",
      "{'hostnames': [{'name': '', 'type': ''}], 'addresses': {'ipv4': '192.168.0.10', 'mac': '84:D8:1B:F5:5A:9F'}, 'vendor': {'84:D8:1B:F5:5A:9F': 'TP-Link Technologies'}, 'status': {'state': 'up', 'reason': 'arp-response'}}\n",
      "{'hostnames': [{'name': '', 'type': ''}], 'addresses': {'ipv4': '192.168.0.11', 'mac': '28:87:BA:B0:B8:19'}, 'vendor': {'28:87:BA:B0:B8:19': 'TP-Link Limited'}, 'status': {'state': 'up', 'reason': 'arp-response'}}\n",
      "{'hostnames': [{'name': '', 'type': ''}], 'addresses': {'ipv4': '192.168.0.12', 'mac': 'C0:C9:E3:46:7C:92'}, 'vendor': {'C0:C9:E3:46:7C:92': 'TP-Link Technologies'}, 'status': {'state': 'up', 'reason': 'arp-response'}}\n",
      "{'hostnames': [{'name': '', 'type': ''}], 'addresses': {'ipv4': '192.168.0.13', 'mac': '00:F6:20:9F:2D:E1'}, 'vendor': {'00:F6:20:9F:2D:E1': 'Google'}, 'status': {'state': 'up', 'reason': 'arp-response'}}\n",
      "{'hostnames': [{'name': '', 'type': ''}], 'addresses': {'ipv4': '192.168.0.14', 'mac': 'E4:C3:2A:03:8B:F0'}, 'vendor': {'E4:C3:2A:03:8B:F0': 'TP-Link Technologies'}, 'status': {'state': 'up', 'reason': 'arp-response'}}\n",
      "{'hostnames': [{'name': '', 'type': ''}], 'addresses': {'ipv4': '192.168.0.15', 'mac': 'B4:FB:E3:8F:4D:0E'}, 'vendor': {'B4:FB:E3:8F:4D:0E': 'AltoBeam (China)'}, 'status': {'state': 'up', 'reason': 'arp-response'}}\n",
      "{'hostnames': [{'name': '', 'type': ''}], 'addresses': {'ipv4': '192.168.0.17', 'mac': '30:FF:F6:85:8B:A9'}, 'vendor': {'30:FF:F6:85:8B:A9': 'HangZhou KuoHeng Technology'}, 'status': {'state': 'up', 'reason': 'arp-response'}}\n",
      "{'hostnames': [{'name': '', 'type': ''}], 'addresses': {'ipv4': '192.168.0.18'}, 'vendor': {}, 'status': {'state': 'up', 'reason': 'localhost-response'}}\n",
      "{'hostnames': [{'name': '', 'type': ''}], 'addresses': {'ipv4': '192.168.0.2', 'mac': 'CC:32:E5:7E:70:45'}, 'vendor': {'CC:32:E5:7E:70:45': 'TP-Link Technologies'}, 'status': {'state': 'up', 'reason': 'arp-response'}}\n",
      "{'hostnames': [{'name': '', 'type': ''}], 'addresses': {'ipv4': '192.168.0.20', 'mac': '8E:4F:75:BC:F8:EF'}, 'vendor': {}, 'status': {'state': 'up', 'reason': 'arp-response'}}\n",
      "{'hostnames': [{'name': '', 'type': ''}], 'addresses': {'ipv4': '192.168.0.252', 'mac': '00:00:CA:01:02:03'}, 'vendor': {'00:00:CA:01:02:03': 'Arris Group'}, 'status': {'state': 'up', 'reason': 'arp-response'}}\n",
      "{'hostnames': [{'name': '', 'type': ''}], 'addresses': {'ipv4': '192.168.0.3', 'mac': 'CC:32:E5:7E:6C:52'}, 'vendor': {'CC:32:E5:7E:6C:52': 'TP-Link Technologies'}, 'status': {'state': 'up', 'reason': 'arp-response'}}\n",
      "{'hostnames': [{'name': '', 'type': ''}], 'addresses': {'ipv4': '192.168.0.4', 'mac': 'BC:DD:C2:A3:56:C8'}, 'vendor': {'BC:DD:C2:A3:56:C8': 'Espressif'}, 'status': {'state': 'up', 'reason': 'arp-response'}}\n",
      "{'hostnames': [{'name': '', 'type': ''}], 'addresses': {'ipv4': '192.168.0.6', 'mac': 'E4:C3:2A:03:8B:98'}, 'vendor': {'E4:C3:2A:03:8B:98': 'TP-Link Technologies'}, 'status': {'state': 'up', 'reason': 'arp-response'}}\n",
      "{'hostnames': [{'name': '', 'type': ''}], 'addresses': {'ipv4': '192.168.0.7', 'mac': '30:DE:4B:AD:98:8D'}, 'vendor': {'30:DE:4B:AD:98:8D': 'TP-Link Limited'}, 'status': {'state': 'up', 'reason': 'arp-response'}}\n",
      "{'hostnames': [{'name': '', 'type': ''}], 'addresses': {'ipv4': '192.168.0.8', 'mac': 'BC:DD:C2:A3:3A:14'}, 'vendor': {'BC:DD:C2:A3:3A:14': 'Espressif'}, 'status': {'state': 'up', 'reason': 'arp-response'}}\n",
      "{'hostnames': [{'name': '', 'type': ''}], 'addresses': {'ipv4': '192.168.0.9', 'mac': 'E4:C3:2A:D8:66:F1'}, 'vendor': {'E4:C3:2A:D8:66:F1': 'TP-Link Technologies'}, 'status': {'state': 'up', 'reason': 'arp-response'}}\n"
     ]
    }
   ],
   "source": [
    "for host in host_list:\n",
    "    print(nm[host])\n",
    "\n",
    "\"\"\"\n",
    "# Nmap data host dict sructure\n",
    "    hostnames\n",
    "        [{'name': '', 'type': ''}]\n",
    "    addresses\n",
    "        {'ipv4': '192.168.0.1', 'mac': '88:71:B1:A1:22:02'}\n",
    "    vendor\n",
    "        {'88:71:B1:A1:22:02': 'Arris Group'}\n",
    "    status\n",
    "        {'state': 'up', 'reason': 'arp-response'}\n",
    "\"\"\"\n",
    "\n",
    "{'hostnames': [{'name': '', 'type': ''}], 'addresses': {'ipv4': '192.168.0.1', 'mac': '88:71:B1:A1:22:02'}, 'vendor': {'88:71:B1:A1:22:02': 'Arris Group'}, 'status': {'state': 'up', 'reason': 'arp-response'}}"
   ]
  },
  {
   "cell_type": "code",
   "execution_count": 18,
   "metadata": {},
   "outputs": [
    {
     "name": "stdout",
     "output_type": "stream",
     "text": [
      "88:71:B1:A1:22:02\n",
      "84:D8:1B:F5:5A:9F\n",
      "28:87:BA:B0:B8:19\n",
      "C0:C9:E3:46:7C:92\n",
      "00:F6:20:9F:2D:E1\n",
      "E4:C3:2A:03:8B:F0\n",
      "B4:FB:E3:8F:4D:0E\n",
      "30:FF:F6:85:8B:A9\n",
      "CC:32:E5:7E:70:45\n",
      "8E:4F:75:BC:F8:EF\n",
      "00:00:CA:01:02:03\n",
      "CC:32:E5:7E:6C:52\n",
      "BC:DD:C2:A3:56:C8\n",
      "E4:C3:2A:03:8B:98\n",
      "30:DE:4B:AD:98:8D\n",
      "BC:DD:C2:A3:3A:14\n",
      "E4:C3:2A:D8:66:F1\n"
     ]
    }
   ],
   "source": [
    "for host in host_list:\n",
    "    if \"mac\" in nm[host][\"addresses\"]:\n",
    "        print(nm[host][\"addresses\"].get(\"mac\"))"
   ]
  },
  {
   "cell_type": "code",
   "execution_count": 21,
   "metadata": {},
   "outputs": [
    {
     "name": "stdout",
     "output_type": "stream",
     "text": [
      "192.168.0.1 -> 88:71:B1:A1:22:02\n",
      "192.168.0.10 -> 84:D8:1B:F5:5A:9F\n",
      "192.168.0.11 -> 28:87:BA:B0:B8:19\n",
      "192.168.0.12 -> C0:C9:E3:46:7C:92\n",
      "192.168.0.13 -> 00:F6:20:9F:2D:E1\n",
      "192.168.0.14 -> E4:C3:2A:03:8B:F0\n",
      "192.168.0.15 -> B4:FB:E3:8F:4D:0E\n",
      "192.168.0.17 -> 30:FF:F6:85:8B:A9\n",
      "192.168.0.2 -> CC:32:E5:7E:70:45\n",
      "192.168.0.20 -> 8E:4F:75:BC:F8:EF\n",
      "192.168.0.252 -> 00:00:CA:01:02:03\n",
      "192.168.0.3 -> CC:32:E5:7E:6C:52\n",
      "192.168.0.4 -> BC:DD:C2:A3:56:C8\n",
      "192.168.0.6 -> E4:C3:2A:03:8B:98\n",
      "192.168.0.7 -> 30:DE:4B:AD:98:8D\n",
      "192.168.0.8 -> BC:DD:C2:A3:3A:14\n",
      "192.168.0.9 -> E4:C3:2A:D8:66:F1\n"
     ]
    }
   ],
   "source": [
    "for host in host_list:\n",
    "    if \"mac\" in nm[host][\"addresses\"]:\n",
    "        print(f'{host} -> {nm[host][\"addresses\"][\"mac\"]}')"
   ]
  },
  {
   "cell_type": "code",
   "execution_count": 24,
   "metadata": {},
   "outputs": [
    {
     "name": "stdout",
     "output_type": "stream",
     "text": [
      "8250      Hola mundo\n"
     ]
    }
   ],
   "source": [
    "data = str(8250)\n",
    "print(f\"{data:<10}{'Hola mundo'}\")"
   ]
  }
 ],
 "metadata": {
  "kernelspec": {
   "display_name": "Python 3",
   "language": "python",
   "name": "python3"
  },
  "language_info": {
   "codemirror_mode": {
    "name": "ipython",
    "version": 3
   },
   "file_extension": ".py",
   "mimetype": "text/x-python",
   "name": "python",
   "nbconvert_exporter": "python",
   "pygments_lexer": "ipython3",
   "version": "3.11.4"
  }
 },
 "nbformat": 4,
 "nbformat_minor": 2
}
