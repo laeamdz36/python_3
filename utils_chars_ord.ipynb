{
 "cells": [
  {
   "cell_type": "code",
   "execution_count": 3,
   "metadata": {},
   "outputs": [
    {
     "name": "stdout",
     "output_type": "stream",
     "text": [
      "72\n",
      "111\n",
      "108\n",
      "97\n",
      "32\n",
      "77\n",
      "117\n",
      "110\n",
      "100\n",
      "111\n",
      "935\n"
     ]
    }
   ],
   "source": [
    "message = \"Hola Mundo\"\n",
    "final = 0\n",
    "for c in message:\n",
    "    print(ord(c))\n",
    "    final = final + ord(c)\n",
    "\n",
    "print(final)"
   ]
  },
  {
   "cell_type": "code",
   "execution_count": 29,
   "metadata": {},
   "outputs": [
    {
     "name": "stdout",
     "output_type": "stream",
     "text": [
      "H\n",
      "J_o_s_e\n",
      "32\n",
      "Kzsyntsfq%uwtlwfrrnsl\n",
      "Funtional programming\n"
     ]
    }
   ],
   "source": [
    "buildtext = \"Funtional programming\"\n",
    "\n",
    "print(buildtext.join(chr(ord(\"H\"))))\n",
    "\n",
    "print(\"_\".join(\"Jose\"))\n",
    "# encriptacion\n",
    "# encrypt key\n",
    "key = 5\n",
    "print(ord(\" \"))\n",
    "key = 5\n",
    "# chr metodo convierte un numero entero unicode a caracater\n",
    "# ord meotodo convierte un caracter a un entero unicode\n",
    "lista = [chr((ord(word)+key)) for word in buildtext]\n",
    "print(\"\".join(c for c in lista))\n",
    "\n",
    "print(\"\".join(chr((ord(c)-5)) for c in lista))\n",
    "\n",
    "\n",
    "\n"
   ]
  },
  {
   "cell_type": "code",
   "execution_count": 1,
   "metadata": {},
   "outputs": [],
   "source": [
    "import os"
   ]
  },
  {
   "cell_type": "code",
   "execution_count": 2,
   "metadata": {},
   "outputs": [
    {
     "name": "stdout",
     "output_type": "stream",
     "text": [
      "c:\\Users\\Automation\\Documents\\python\n"
     ]
    }
   ],
   "source": [
    "parent_path = os.getcwd()\n",
    "print(parent_path)"
   ]
  },
  {
   "cell_type": "code",
   "execution_count": 4,
   "metadata": {},
   "outputs": [
    {
     "name": "stdout",
     "output_type": "stream",
     "text": [
      "c:\\Users\\Automation\\Documents\\python\\automatizacion\n"
     ]
    }
   ],
   "source": [
    "folder = \"automatizacion\"\n",
    "aux_path = os.path.join(parent_path,folder)\n",
    "print(aux_path)"
   ]
  }
 ],
 "metadata": {
  "kernelspec": {
   "display_name": "Python 3",
   "language": "python",
   "name": "python3"
  },
  "language_info": {
   "codemirror_mode": {
    "name": "ipython",
    "version": 3
   },
   "file_extension": ".py",
   "mimetype": "text/x-python",
   "name": "python",
   "nbconvert_exporter": "python",
   "pygments_lexer": "ipython3",
   "version": "3.11.4"
  }
 },
 "nbformat": 4,
 "nbformat_minor": 2
}
