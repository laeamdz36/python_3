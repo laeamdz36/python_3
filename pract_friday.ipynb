{
 "cells": [
  {
   "cell_type": "code",
   "execution_count": 10,
   "metadata": {},
   "outputs": [
    {
     "name": "stdout",
     "output_type": "stream",
     "text": [
      "0 -> a Total: 2\n",
      "1 -> e Total: 4\n",
      "2 -> i Total: 1\n",
      "3 -> o Total: 1\n",
      "4 -> u Total: 1\n"
     ]
    }
   ],
   "source": [
    "def countVocals(text):\n",
    "    \"\"\"Function to count the amount of vocals in the text\"\"\"\n",
    "    \n",
    "    # Definir cuales sera las vocales\n",
    "    vocals = [\"a\",\"e\",\"i\",\"o\",\"u\"]\n",
    "\n",
    "    # Creacion de diccionario para almacenar el conteo de vocales en el texto\n",
    "    # mediante estructura de programacion \"dictionary comprehension\"\n",
    "    vocalsCount = {vocal:0 for vocal in vocals}\n",
    "\n",
    "    # iniciar ciclo for, iterar sobre cada caracter en el texto dado a la funcion (text)\n",
    "    for letter in text:\n",
    "\n",
    "        # Si el caracter extraido esta dentro de la lista de vocales, buscar en el diccionario y contar uno\n",
    "        # a su respectiva vocal\n",
    "        if letter.lower() in vocals:\n",
    "            vocalsCount[letter.lower()] = vocalsCount.get(letter.lower(),0) + 1\n",
    "    \n",
    "    #Despues de acabar de iterar sobre todos los caracteres del texto, impirmir el reporte de conteo.\n",
    "    for i,vocal in enumerate(vocalsCount.items()):\n",
    "\n",
    "        print(f\"{i} -> {vocal[0]} Total: {vocal[1]}\")\n",
    "    #print(vocalsCount)\n",
    "\n",
    "text_test = \"Luis Alberto Peña Mendez\"\n",
    "#text_input = input(\"ingrese texto: \")\n",
    "countVocals(text_test)"
   ]
  }
 ],
 "metadata": {
  "kernelspec": {
   "display_name": "Python 3",
   "language": "python",
   "name": "python3"
  },
  "language_info": {
   "codemirror_mode": {
    "name": "ipython",
    "version": 3
   },
   "file_extension": ".py",
   "mimetype": "text/x-python",
   "name": "python",
   "nbconvert_exporter": "python",
   "pygments_lexer": "ipython3",
   "version": "3.11.4"
  }
 },
 "nbformat": 4,
 "nbformat_minor": 2
}
