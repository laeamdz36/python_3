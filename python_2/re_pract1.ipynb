{
 "cells": [
  {
   "cell_type": "code",
   "execution_count": 2,
   "metadata": {},
   "outputs": [
    {
     "name": "stdout",
     "output_type": "stream",
     "text": [
      "looking in José Luis Peña Mendez for pattern [Jj]os(e|é)\n",
      "<class 're.Match'>\n",
      "['__class__', '__class_getitem__', '__copy__', '__deepcopy__', '__delattr__', '__dir__', '__doc__', '__eq__', '__format__', '__ge__', '__getattribute__', '__getitem__', '__getstate__', '__gt__', '__hash__', '__init__', '__init_subclass__', '__le__', '__lt__', '__module__', '__ne__', '__new__', '__reduce__', '__reduce_ex__', '__repr__', '__setattr__', '__sizeof__', '__str__', '__subclasshook__', 'end', 'endpos', 'expand', 'group', 'groupdict', 'groups', 'lastgroup', 'lastindex', 'pos', 're', 'regs', 'span', 'start', 'string']\n",
      "José Luis Peña Mendez\n",
      "Luis\n",
      "Match has found\n"
     ]
    }
   ],
   "source": [
    "import re as regx\n",
    "\n",
    "string1 = \"Abc123\"\n",
    "string2 = \"A123A\"\n",
    "string3 = \"123AAA\"\n",
    "\n",
    "string_name = \"José Luis Peña Mendez\"\n",
    "pattern_1 = \"[Jj]os(e|é)\"\n",
    "pattern_2 = \"[Ll]uis\"\n",
    "print(\"looking in\",string_name,\"for pattern\",pattern_1)\n",
    "\n",
    "result = regx.search(pattern_2,string_name)\n",
    "\n",
    "print(type(result))\n",
    "print(dir(result))\n",
    "print(result.string)\n",
    "print(result.group())\n",
    "if regx.search(pattern_2,string_name):\n",
    "    print(\"Match has found\")\n",
    "else:\n",
    "    print(\"Match has not found\")\n",
    "\n",
    "#result.start([group]) / result.end([group])"
   ]
  },
  {
   "cell_type": "code",
   "execution_count": 6,
   "metadata": {},
   "outputs": [
    {
     "name": "stdout",
     "output_type": "stream",
     "text": [
      "['Spain', 'plain']\n",
      "Spain\n",
      "plain\n"
     ]
    }
   ],
   "source": [
    "# use of re.findall() function\n",
    "# retutn a list of all finds by pattern given\n",
    "string_aux1 = \"The rain in Spain stays mainly on the plain\"\n",
    "results = regx.findall(\"[a-zA-Z]{2}ai.\",string_aux1)\n",
    "print(results)\n",
    "\n",
    "for s in results:\n",
    "    print(s)"
   ]
  },
  {
   "cell_type": "code",
   "execution_count": 15,
   "metadata": {},
   "outputs": [
    {
     "name": "stdout",
     "output_type": "stream",
     "text": [
      "['It', 'was', 'a', 'hot', 'summer', 'night']\n"
     ]
    }
   ],
   "source": [
    "# divide en elmmatch encontrado bajo el patron dado\n",
    "string_aux2 = \"It was a hot summer night\"\n",
    "x = regx.split(\"\\s\",string_aux2)\n",
    "print(x)"
   ]
  },
  {
   "cell_type": "code",
   "execution_count": 22,
   "metadata": {},
   "outputs": [
    {
     "name": "stdout",
     "output_type": "stream",
     "text": [
      "UK for football, UK for Rugby and UK for the Highland games\n",
      "('UK for football, UK for Rugby and UK for the Highland games', 3)\n"
     ]
    }
   ],
   "source": [
    "# re.sub() reemplaza en el string mediante el patron dado\n",
    "pattern_4 = \"([Ee]ngland|[Ww]ales|[Ss]cotland)\"\n",
    "string_eng = \"England for football, Wales for Rugby and Scotland for the Highland games\"\n",
    "print(regx.sub(pattern_4,\"UK\",string_eng))\n",
    "\n",
    "# subn regresa el numero de sustituciones y el nuevo string\n",
    "pattern_5 = \"([Ee]ngland|[Ww]ales|[Ss]cotland)\"\n",
    "string_eng1 = \"England for football, Wales for Rugby and Scotland for the Highland games\"\n",
    "print(regx.subn(pattern_5,\"UK\",string_eng1))"
   ]
  },
  {
   "cell_type": "code",
   "execution_count": 52,
   "metadata": {},
   "outputs": [
    {
     "name": "stdout",
     "output_type": "stream",
     "text": [
      "Login OK\n",
      "Jose Found\n",
      "Error de variable, ingresa string\n",
      "Error de variable, ingresa string\n",
      "Jose not Found\n",
      "Error de variable, ingresa string\n"
     ]
    }
   ],
   "source": [
    "# regular expression object, function and exception handling\n",
    "def checkLogin(login):\n",
    "    try:\n",
    "        if login:\n",
    "            print(\"Login OK\")\n",
    "        else:\n",
    "            raise RuntimeError(\"Error de login\")\n",
    "    except RuntimeError or ValueError:\n",
    "        print(\"error de Login\")\n",
    "        return\n",
    "    \n",
    "def check_Jose(name_aux):\n",
    "\n",
    "    contain_jose = r\"[Jj]os(e|é)\"\n",
    "    try:\n",
    "\n",
    "        reg_jose = regx.compile(contain_jose)\n",
    "        \n",
    "    except TypeError:\n",
    "        raise Exception\n",
    "    try:\n",
    "        result = reg_jose.search(name_aux)\n",
    "        if result:\n",
    "            print(\"Jose Found\")\n",
    "            return True\n",
    "        else:\n",
    "            print(\"Jose not Found\")\n",
    "    except Exception:\n",
    "        print(\"Error de variable, ingresa string\")\n",
    "\n",
    "contain_jose = r\"[Jj]os(e|é)\" # definition of regular expression\n",
    "my_name = regx.compile(contain_jose) # complie regular expression object\n",
    "name_1 = \"Jose Luis Peña Mendez\" # definition og string work\n",
    "name_2 = \"Luis Jose Perez Hernandez\"\n",
    "name_3 = \"Emilio Jose Galvez Ruiz\"\n",
    "match_name = my_name.search(name_1)\n",
    "if match_name:\n",
    "    login = True\n",
    "else:\n",
    "    login = False\n",
    "checkLogin(login)\n",
    "\n",
    "check_Jose(name_2)\n",
    "check_Jose(23)\n",
    "check_Jose(b\"Hola mundo\")\n",
    "check_Jose(\"Hola mundo\")\n",
    "check_Jose(12.0)\n",
    "\n",
    "\n"
   ]
  },
  {
   "cell_type": "code",
   "execution_count": 53,
   "metadata": {},
   "outputs": [
    {
     "name": "stdout",
     "output_type": "stream",
     "text": [
      "['Emilio', 'Jose', 'Galvez', 'Ruiz']\n"
     ]
    }
   ],
   "source": [
    "# constrution of regex for split words\n",
    "\n",
    "pattern_swords = r\"\\W+\"\n",
    "words_split = regx.compile(pattern_swords)\n",
    "print(words_split.split(name_3))"
   ]
  }
 ],
 "metadata": {
  "kernelspec": {
   "display_name": "Python 3",
   "language": "python",
   "name": "python3"
  },
  "language_info": {
   "codemirror_mode": {
    "name": "ipython",
    "version": 3
   },
   "file_extension": ".py",
   "mimetype": "text/x-python",
   "name": "python",
   "nbconvert_exporter": "python",
   "pygments_lexer": "ipython3",
   "version": "3.11.4"
  }
 },
 "nbformat": 4,
 "nbformat_minor": 2
}
