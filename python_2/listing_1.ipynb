{
 "cells": [
  {
   "cell_type": "code",
   "execution_count": 5,
   "metadata": {},
   "outputs": [
    {
     "name": "stdout",
     "output_type": "stream",
     "text": [
      "[0, 1, 2, 3, 4, 5, 6, 7, 8, 9, 10]\n",
      "{'A': '1', 'B': '2', 'C': '3', 'D': '4', 'E': '5'}\n"
     ]
    }
   ],
   "source": [
    "list_1 = [number for number in range(11)]\n",
    "print(list_1)\n",
    "\n",
    "numbers = [1,2,3,4,5]\n",
    "letras = [\"A\",\"B\",\"C\",\"D\",\"E\"]\n",
    "\n",
    "numbers_str = [str(num) for num in numbers]\n",
    "iter_aux = zip(letras,numbers_str)\n",
    "\n",
    "dict_aux = {letra:num for letra,num in iter_aux}\n",
    "print(dict_aux)"
   ]
  },
  {
   "cell_type": "code",
   "execution_count": 12,
   "metadata": {},
   "outputs": [
    {
     "name": "stdout",
     "output_type": "stream",
     "text": [
      "{3, 7}\n"
     ]
    }
   ],
   "source": [
    "new_list = {1,3,4,7} & {3,7,8}\n",
    "print(new_list)"
   ]
  },
  {
   "cell_type": "code",
   "execution_count": 16,
   "metadata": {},
   "outputs": [
    {
     "name": "stdout",
     "output_type": "stream",
     "text": [
      "{'a': 2, 'b': 2, 'c': 3, 'd': 4}\n",
      "{'a': 2, 'b': 2, 'c': 3, 'd': 4}\n",
      "{'a': 2, 'b': 2, 'c': 3, 'd': 4}\n"
     ]
    }
   ],
   "source": [
    "dict_1 = {\"a\":1,\"b\":2}\n",
    "dict_2 = {\"a\":2,\"c\":3,\"d\":4}\n",
    "\n",
    "dict_1 |=dict_2\n",
    "print(dict_1)\n",
    "\n",
    "print({**dict_1,**dict_2})\n",
    "\n",
    "print({**dict_1})"
   ]
  },
  {
   "cell_type": "code",
   "execution_count": 50,
   "metadata": {},
   "outputs": [
    {
     "name": "stdout",
     "output_type": "stream",
     "text": [
      "<class 'bytes'>\n",
      "[65]\n",
      "[76, 117, 105, 115]\n",
      "[101]\n",
      "b'e'\n",
      "'A'\n",
      "0x41\n"
     ]
    }
   ],
   "source": [
    "# Instances of bytes contain raw , unsigned 8bit values, often displayed in the ASCII encoding\n",
    "letra = b\"A\"\n",
    "letra_2 = b\"Luis\"\n",
    "hex_1 = b\"\\x65\"\n",
    "\n",
    "print(type(letra))\n",
    "print(list(letra))\n",
    "print(list(letra_2))\n",
    "print(list(hex_1))\n",
    "print(hex_1)\n",
    "\n",
    "# convert decimal value to hex\n",
    "value = 10\n",
    "hex_value = \"\\x41\"\n",
    "print(repr(hex_value))\n",
    "print(hex(65))\n"
   ]
  },
  {
   "cell_type": "code",
   "execution_count": 82,
   "metadata": {},
   "outputs": [
    {
     "name": "stdout",
     "output_type": "stream",
     "text": [
      "65\n",
      "[50, 53, 53]\n",
      "0x32\n",
      "0x35\n",
      "0x35\n",
      "b'255'\n",
      "b'255'\n",
      "<class 'str'>\n",
      "'255'\n",
      "b'\\xff'\n"
     ]
    }
   ],
   "source": [
    "letra_a = b\"A\"\n",
    "numero = b\"\"\n",
    "hex_2 = hex(65)\n",
    "data = b\"255\"\n",
    "data_new = b\"\\x32\\x35\\x35\"\n",
    "print(int(hex_2,16))\n",
    "print(list(data))\n",
    "\n",
    "for num in list(data):\n",
    "    print(hex(num))\n",
    "\n",
    "print(data_new)\n",
    "string_data = data_new.decode(\"utf8\")\n",
    "print(repr(data_new))\n",
    "print(type(string_data))\n",
    "print(repr(string_data))\n",
    "\n",
    "hex_3 = b\"\\xff\"\n",
    "print(hex_3)"
   ]
  },
  {
   "cell_type": "code",
   "execution_count": 1,
   "metadata": {},
   "outputs": [],
   "source": [
    "# bytes\n",
    "list_2 = [num for num in range(100_000_000)]"
   ]
  },
  {
   "cell_type": "code",
   "execution_count": 2,
   "metadata": {},
   "outputs": [
    {
     "name": "stdout",
     "output_type": "stream",
     "text": [
      "90000000\n"
     ]
    }
   ],
   "source": [
    "print(list_2.index(90_000_000))"
   ]
  }
 ],
 "metadata": {
  "kernelspec": {
   "display_name": "Python 3",
   "language": "python",
   "name": "python3"
  },
  "language_info": {
   "codemirror_mode": {
    "name": "ipython",
    "version": 3
   },
   "file_extension": ".py",
   "mimetype": "text/x-python",
   "name": "python",
   "nbconvert_exporter": "python",
   "pygments_lexer": "ipython3",
   "version": "3.11.4"
  }
 },
 "nbformat": 4,
 "nbformat_minor": 2
}
