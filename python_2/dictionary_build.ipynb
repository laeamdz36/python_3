{
 "cells": [
  {
   "cell_type": "code",
   "execution_count": 1,
   "metadata": {},
   "outputs": [],
   "source": [
    "import datetime as dt\n",
    "import tkinter as tk"
   ]
  },
  {
   "cell_type": "code",
   "execution_count": 9,
   "metadata": {},
   "outputs": [
    {
     "name": "stdout",
     "output_type": "stream",
     "text": [
      "Hour range ->'6-7' 2023-12-18 06:00:00 to 2023-12-18 07:00:00\n",
      "Hour range ->'7-8' 2023-12-18 07:00:00 to 2023-12-18 08:00:00\n",
      "Hour range ->'8-9' 2023-12-18 08:00:00 to 2023-12-18 09:00:00\n",
      "Hour range ->'9-10' 2023-12-18 09:00:00 to 2023-12-18 10:00:00\n",
      "Hour range ->'10-11' 2023-12-18 10:00:00 to 2023-12-18 11:00:00\n",
      "Hour range ->'11-12' 2023-12-18 11:00:00 to 2023-12-18 12:00:00\n",
      "Hour range ->'12-13' 2023-12-18 12:00:00 to 2023-12-18 13:00:00\n",
      "Hour range ->'13-14' 2023-12-18 13:00:00 to 2023-12-18 14:00:00\n",
      "Hour range ->'14-15' 2023-12-18 14:00:00 to 2023-12-18 15:00:00\n",
      "Hour range ->'15-16' 2023-12-18 15:00:00 to 2023-12-18 16:00:00\n",
      "Hour range ->'16-17' 2023-12-18 16:00:00 to 2023-12-18 17:00:00\n",
      "Hour range ->'17-18' 2023-12-18 17:00:00 to 2023-12-18 18:00:00\n"
     ]
    }
   ],
   "source": [
    "today = dt.date.today()\n",
    "shift_1 = {\"start\":6,\"end\":18}\n",
    "\n",
    "time_start = dt.time(hour= shift_1.get(\"start\"))\n",
    "time_end = dt.time(hour = shift_1.get(\"end\"))\n",
    "total_hrs = shift_1.get(\"end\") - shift_1.get(\"start\")\n",
    "\n",
    "date_start = dt.datetime.combine(today,time_start)\n",
    "date_end = dt.datetime.combine(today,time_end)\n",
    "\n",
    "dates_dict = {}\n",
    "\n",
    "\n",
    "for hour in range(total_hrs):\n",
    "\n",
    "    d_aux_start = date_start + dt.timedelta(hours=hour)\n",
    "    d_aux_end = date_start + dt.timedelta(hours=hour+1)\n",
    "\n",
    "    header_string = f\"{str(d_aux_start.hour)}-{str(d_aux_end.hour)}\"\n",
    "\n",
    "    dates_dict[header_string] = [d_aux_start.strftime(\"%Y-%m-%d %H:%M:%S\"),d_aux_end.strftime(\"%Y-%m-%d %H:%M:%S\")]\n",
    "\n",
    "for key,values in dates_dict.items():\n",
    "\n",
    "    print(f\"Hour range ->'{key}' {values[0]} to {values[1]}\")"
   ]
  }
 ],
 "metadata": {
  "kernelspec": {
   "display_name": "Python 3",
   "language": "python",
   "name": "python3"
  },
  "language_info": {
   "codemirror_mode": {
    "name": "ipython",
    "version": 3
   },
   "file_extension": ".py",
   "mimetype": "text/x-python",
   "name": "python",
   "nbconvert_exporter": "python",
   "pygments_lexer": "ipython3",
   "version": "3.11.4"
  }
 },
 "nbformat": 4,
 "nbformat_minor": 2
}
