{
 "cells": [
  {
   "cell_type": "markdown",
   "metadata": {},
   "source": [
    "# Practica con libreria numpy"
   ]
  },
  {
   "cell_type": "code",
   "execution_count": 6,
   "metadata": {},
   "outputs": [
    {
     "name": "stdout",
     "output_type": "stream",
     "text": [
      "    Columna1\n",
      "41  4.141414\n",
      "20  2.020202\n",
      "10  1.010101\n",
      "75  7.575758\n",
      "9   0.909091\n",
      "90  9.090909\n",
      "65  6.565657\n",
      "89  8.989899\n",
      "3   0.303030\n",
      "86  8.686869\n"
     ]
    }
   ],
   "source": [
    "import numpy as np\n",
    "import pandas as pd\n",
    "import matplotlib.pyplot as plt\n",
    "\n",
    "array_1 = np.arange(0, 100, 1)\n",
    "array_2 = np.linspace(0,10,100)\n",
    "df_data=pd.DataFrame(columns=[\"Columna1\"],data=array_2)\n",
    "print(df_data.sample(10))"
   ]
  },
  {
   "cell_type": "code",
   "execution_count": 21,
   "metadata": {},
   "outputs": [
    {
     "name": "stdout",
     "output_type": "stream",
     "text": [
      "   Columna1    random\n",
      "0   0.00000  0.000000\n",
      "1   0.10101  1.010101\n",
      "2   0.20202  2.020202\n",
      "3   0.30303  3.030303\n",
      "4   0.40404  4.040404\n"
     ]
    }
   ],
   "source": [
    "df_data[\"random\"] = df_data.loc[:,[\"Columna1\"]]*10\n",
    "print(df_data.head(5))"
   ]
  },
  {
   "cell_type": "markdown",
   "metadata": {},
   "source": [
    "# Testing con condiciones"
   ]
  },
  {
   "cell_type": "code",
   "execution_count": 23,
   "metadata": {},
   "outputs": [
    {
     "name": "stdout",
     "output_type": "stream",
     "text": [
      "False\n"
     ]
    }
   ],
   "source": [
    "x = np.linspace(1, 50, 100)\n",
    "\n",
    "# regresa un True si todos los elementos son mayores a 20\n",
    "print(np.all(x > 10))"
   ]
  },
  {
   "cell_type": "code",
   "execution_count": 26,
   "metadata": {},
   "outputs": [
    {
     "name": "stdout",
     "output_type": "stream",
     "text": [
      "True\n"
     ]
    }
   ],
   "source": [
    "# Checkin if any of the values in the array satisfy a condition: th np.any function return value True if any of the items satisfy the condition\n",
    "print(np.any(x > 20))"
   ]
  },
  {
   "cell_type": "code",
   "execution_count": 27,
   "metadata": {},
   "outputs": [
    {
     "name": "stdout",
     "output_type": "stream",
     "text": [
      "(array([ 0,  1,  2,  3,  4,  5,  6,  7,  8,  9, 10, 11, 12, 13, 14, 15, 16,\n",
      "       17, 18], dtype=int64),)\n"
     ]
    }
   ],
   "source": [
    "# regresa el index de los elementos que son menores a 10\n",
    "print(np.where(x < 10))"
   ]
  },
  {
   "cell_type": "code",
   "execution_count": 28,
   "metadata": {},
   "outputs": [
    {
     "name": "stdout",
     "output_type": "stream",
     "text": [
      "[1.         1.49494949 1.98989899 2.48484848 2.97979798 3.47474747\n",
      " 3.96969697 4.46464646 4.95959596 5.45454545 5.94949495 6.44444444\n",
      " 6.93939394 7.43434343 7.92929293 8.42424242 8.91919192 9.41414141\n",
      " 9.90909091]\n"
     ]
    }
   ],
   "source": [
    "print(x[np.where(x < 10)])"
   ]
  },
  {
   "cell_type": "code",
   "execution_count": 31,
   "metadata": {},
   "outputs": [
    {
     "name": "stdout",
     "output_type": "stream",
     "text": [
      "[5.45454545 5.94949495 6.44444444 6.93939394 7.43434343 7.92929293\n",
      " 8.42424242 8.91919192 9.41414141 9.90909091]\n"
     ]
    }
   ],
   "source": [
    "print(x[(x < 10) & (x > 5)])"
   ]
  },
  {
   "cell_type": "markdown",
   "metadata": {},
   "source": [
    "# Construccion de array con saltos de valor constante floatante"
   ]
  },
  {
   "cell_type": "code",
   "execution_count": 4,
   "metadata": {},
   "outputs": [
    {
     "name": "stdout",
     "output_type": "stream",
     "text": [
      "[0.  0.3 0.6 0.9 1.2 1.5 1.8 2.1 2.4 2.7 3.  3.3 3.6 3.9]\n",
      "27.299999999999997\n"
     ]
    }
   ],
   "source": [
    "array_3=np.arange(0,4,0.3)\n",
    "print(array_3)\n",
    "print(array_3.sum())"
   ]
  },
  {
   "cell_type": "code",
   "execution_count": 5,
   "metadata": {},
   "outputs": [
    {
     "name": "stdout",
     "output_type": "stream",
     "text": [
      "[[ 0  1  2  3]\n",
      " [ 4  5  6  7]\n",
      " [ 8  9 10 11]\n",
      " [12 13 14 15]\n",
      " [16 17 18 19]]\n"
     ]
    }
   ],
   "source": [
    "# Funcion reshape, crear dos arrays\n",
    "array_4=np.arange(0,20).reshape(5,4)\n",
    "print(array_4)"
   ]
  },
  {
   "cell_type": "code",
   "execution_count": 8,
   "metadata": {},
   "outputs": [
    {
     "name": "stdout",
     "output_type": "stream",
     "text": [
      "[ 0.          5.55555556 11.11111111 16.66666667 22.22222222 27.77777778\n",
      " 33.33333333 38.88888889 44.44444444 50.        ]\n"
     ]
    }
   ],
   "source": [
    "array_lineal=np.linspace(0,50,10)\n",
    "print(array_lineal)"
   ]
  },
  {
   "cell_type": "code",
   "execution_count": 9,
   "metadata": {},
   "outputs": [
    {
     "name": "stdout",
     "output_type": "stream",
     "text": [
      "[[0.02724181 0.65532757 0.35442275]\n",
      " [0.32232079 0.35478279 0.09690681]\n",
      " [0.33060697 0.70002965 0.2308405 ]]\n"
     ]
    }
   ],
   "source": [
    "random_array=np.random.random((3,3))\n",
    "print(random_array)"
   ]
  },
  {
   "cell_type": "code",
   "execution_count": 16,
   "metadata": {},
   "outputs": [
    {
     "name": "stdout",
     "output_type": "stream",
     "text": [
      "[4 5 6 7]\n",
      "[7.40352936 0.53704421 1.75876028 7.16377055]\n",
      "[ 8  9 10 11]\n",
      "[11.40352936  5.53704421  7.75876028 14.16377055]\n"
     ]
    }
   ],
   "source": [
    "# creacion de array de cuatro elementos consecutivos\n",
    "a = np.arange(4,8)\n",
    "b=np.random.random(4)\n",
    "b=b*10\n",
    "print(a)\n",
    "print(b)\n",
    "print(a+4)\n",
    "print(a+b)"
   ]
  },
  {
   "cell_type": "code",
   "execution_count": null,
   "metadata": {},
   "outputs": [],
   "source": []
  }
 ],
 "metadata": {
  "kernelspec": {
   "display_name": "Python 3",
   "language": "python",
   "name": "python3"
  },
  "language_info": {
   "codemirror_mode": {
    "name": "ipython",
    "version": 3
   },
   "file_extension": ".py",
   "mimetype": "text/x-python",
   "name": "python",
   "nbconvert_exporter": "python",
   "pygments_lexer": "ipython3",
   "version": "3.11.4"
  },
  "orig_nbformat": 4
 },
 "nbformat": 4,
 "nbformat_minor": 2
}
