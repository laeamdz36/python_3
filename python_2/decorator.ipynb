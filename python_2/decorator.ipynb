{
 "cells": [
  {
   "cell_type": "code",
   "execution_count": 9,
   "metadata": {},
   "outputs": [
    {
     "name": "stdout",
     "output_type": "stream",
     "text": [
      "<class 'str'>\n",
      "acceso concedido ADMIN! GOD\n"
     ]
    }
   ],
   "source": [
    "user = {\"user\":\"luis\",\"access_level\":\"admin\"}\n",
    "\n",
    "def user_permission(func):\n",
    "    if user.get(\"access_level\",0) == \"admin\":\n",
    "        return func\n",
    "    raise RuntimeError\n",
    "\n",
    "def my_func():\n",
    "    return \"acceso concedido ADMIN! GOD\"\n",
    "\n",
    "my_secure_function = user_permission(my_func())\n",
    "\n",
    "print(type(my_secure_function))\n",
    "print(my_secure_function)\n"
   ]
  }
 ],
 "metadata": {
  "kernelspec": {
   "display_name": "Python 3",
   "language": "python",
   "name": "python3"
  },
  "language_info": {
   "codemirror_mode": {
    "name": "ipython",
    "version": 3
   },
   "file_extension": ".py",
   "mimetype": "text/x-python",
   "name": "python",
   "nbconvert_exporter": "python",
   "pygments_lexer": "ipython3",
   "version": "3.11.4"
  }
 },
 "nbformat": 4,
 "nbformat_minor": 2
}
