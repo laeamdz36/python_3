{
 "cells": [
  {
   "cell_type": "code",
   "execution_count": 1,
   "metadata": {},
   "outputs": [],
   "source": [
    "import numpy as np\n",
    "import os as osy\n",
    "import re as regx"
   ]
  },
  {
   "cell_type": "code",
   "execution_count": 8,
   "metadata": {},
   "outputs": [
    {
     "name": "stdout",
     "output_type": "stream",
     "text": [
      "Total Litros Qro por '730Km' -> 73.0\n",
      "Total cost (gas cost 27 pesos) -> 1971.0\n"
     ]
    }
   ],
   "source": [
    "qro_total_km = 730\n",
    "mex_total_km = 935\n",
    "perf_cad = 10\n",
    "\n",
    "\n",
    "\n",
    "gas_cost = 27 # pesos por litro\n",
    "\n",
    "total_litters = qro_total_km / perf_cad\n",
    "total_cost = total_litters * gas_cost\n",
    "print(f\"Total Litros Qro por '{qro_total_km}Km' -> {total_litters}\")\n",
    "print(f\"Total cost (gas cost {gas_cost} pesos) -> {total_cost}\")"
   ]
  },
  {
   "cell_type": "code",
   "execution_count": 12,
   "metadata": {},
   "outputs": [
    {
     "name": "stdout",
     "output_type": "stream",
     "text": [
      "Premium found\n"
     ]
    }
   ],
   "source": [
    "string = \"gasolina premiun esta en 27 pesos mexicanos\"\n",
    "\n",
    "cont_premium = r\"[Pp]remium\"\n",
    "gas_type = regx.compile(cont_premium)\n",
    "\n",
    "result = gas_type.search(\"Premium\")\n",
    "\n",
    "if result:\n",
    "    print(\"Premium found\")\n",
    "else:\n",
    "    print(\"Premium not found\")"
   ]
  },
  {
   "cell_type": "code",
   "execution_count": 5,
   "metadata": {},
   "outputs": [
    {
     "name": "stdout",
     "output_type": "stream",
     "text": [
      "c:\\Users\\Automation\\Documents\\python_2\n",
      "Archivo ya existe!!\n"
     ]
    }
   ],
   "source": [
    "print(osy.getcwd())\n",
    "\n",
    "try:\n",
    "    osy.mkdir(\"New dir\")\n",
    "\n",
    "except FileExistsError:\n",
    "    print(\"Archivo ya existe!!\")\n",
    "\n",
    "# os.stat)()"
   ]
  }
 ],
 "metadata": {
  "kernelspec": {
   "display_name": "Python 3",
   "language": "python",
   "name": "python3"
  },
  "language_info": {
   "codemirror_mode": {
    "name": "ipython",
    "version": 3
   },
   "file_extension": ".py",
   "mimetype": "text/x-python",
   "name": "python",
   "nbconvert_exporter": "python",
   "pygments_lexer": "ipython3",
   "version": "3.11.4"
  }
 },
 "nbformat": 4,
 "nbformat_minor": 2
}
