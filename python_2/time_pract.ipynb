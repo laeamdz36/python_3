{
 "cells": [
  {
   "cell_type": "code",
   "execution_count": 5,
   "metadata": {},
   "outputs": [],
   "source": [
    "import datetime as dt\n",
    "from pathlib import Path\n",
    "import os as os"
   ]
  },
  {
   "cell_type": "code",
   "execution_count": 11,
   "metadata": {},
   "outputs": [
    {
     "name": "stdout",
     "output_type": "stream",
     "text": [
      "2023-12-10\n",
      "Sun Dec 10 17:21:56 2023\n"
     ]
    }
   ],
   "source": [
    "today = dt.datetime.today()\n",
    "start_datetime = dt.datetime.today().ctime()\n",
    "print(today.date())\n",
    "print(start_datetime)"
   ]
  },
  {
   "cell_type": "code",
   "execution_count": 32,
   "metadata": {},
   "outputs": [
    {
     "name": "stdout",
     "output_type": "stream",
     "text": [
      "{'2023-12-17 06:00:00': 6, '2023-12-17 07:00:00': 7, '2023-12-17 08:00:00': 8, '2023-12-17 09:00:00': 9, '2023-12-17 10:00:00': 10, '2023-12-17 11:00:00': 11, '2023-12-17 12:00:00': 12, '2023-12-17 13:00:00': 13, '2023-12-17 14:00:00': 14, '2023-12-17 15:00:00': 15, '2023-12-17 16:00:00': 16, '2023-12-17 17:00:00': 17}\n",
      "[8, 10]\n",
      "[9, 20]\n",
      "[11, 100]\n",
      "[13, 100]\n",
      "[16, 200]\n",
      "[7, 50]\n",
      "[6, 200]\n",
      "[8, 100]\n",
      "[6, 1]\n",
      "8\n",
      "9\n",
      "11\n",
      "13\n",
      "16\n",
      "7\n",
      "6\n",
      "[[8, 8], [9, 9], [11, 11], [13, 13], [16, 16], [7, 7], [6, 6]]\n"
     ]
    }
   ],
   "source": [
    "\n",
    "s1_start = 6\n",
    "s2_end = 18\n",
    "\n",
    "dataset = [[8,10],[9,20],[11,100],[13,100],[16,200],[7,50],[6,200],[8,100],[6,1]]\n",
    "data_dict = dict(dataset)\n",
    "\n",
    "today_date = dt.date.today()\n",
    "\n",
    "hourly_header = {}\n",
    "\n",
    "for i,date in enumerate(range(s2_end - s1_start)):\n",
    "\n",
    "    # Build a dictionary wiht date and hour for hourly report\n",
    "    hourly_header[dt.datetime.combine(today_date,dt.time(hour=s1_start+i)).strftime(\"%Y-%m-%d %H:%M:%S\")] = s1_start+i\n",
    "\n",
    "print(hourly_header)\n",
    "\n",
    "# Build new data set and if info for dataset origininal doesn't exist, put 0 in the row location\n",
    "\n",
    "for row in dataset:\n",
    "        print(row)\n",
    "\n",
    "# List comprehension\n",
    "new_dataset = [[hour,hourly] for hour in data_dict.keys() for hourly in hourly_header.values() if hour == hourly ]\n",
    "for key in data_dict.keys():\n",
    "      print(key)\n",
    "print(new_dataset)"
   ]
  },
  {
   "cell_type": "code",
   "execution_count": 33,
   "metadata": {},
   "outputs": [
    {
     "name": "stdout",
     "output_type": "stream",
     "text": [
      "0 --- ROW ['2023-12-17 06:00:00', 1]\n",
      "1 --- ROW ['2023-12-17 07:00:00', 50]\n",
      "2 --- ROW ['2023-12-17 08:00:00', 100]\n",
      "3 --- ROW ['2023-12-17 09:00:00', 20]\n",
      "4 --- ROW ['2023-12-17 10:00:00', 0]\n",
      "5 --- ROW ['2023-12-17 11:00:00', 100]\n",
      "6 --- ROW ['2023-12-17 12:00:00', 0]\n",
      "7 --- ROW ['2023-12-17 13:00:00', 100]\n",
      "8 --- ROW ['2023-12-17 14:00:00', 0]\n",
      "9 --- ROW ['2023-12-17 15:00:00', 0]\n",
      "10 --- ROW ['2023-12-17 16:00:00', 200]\n",
      "11 --- ROW ['2023-12-17 17:00:00', 0]\n"
     ]
    }
   ],
   "source": [
    "new_dataset_2 = []\n",
    "for date,hourly in hourly_header.items():\n",
    "    # If hour is in dict for this hour then appned date with the value in the dict\n",
    "    if hourly in data_dict:\n",
    "        new_dataset_2.append([date,data_dict[hourly]])\n",
    "    else:\n",
    "        new_dataset_2.append([date,0])\n",
    "for i,row in enumerate(new_dataset_2):\n",
    "    print(f\"{i} --- ROW {row}\")"
   ]
  },
  {
   "cell_type": "code",
   "execution_count": 36,
   "metadata": {},
   "outputs": [
    {
     "name": "stdout",
     "output_type": "stream",
     "text": [
      "0 --- ROW ['2023-12-17 06:00:00', 1]\n",
      "1 --- ROW ['2023-12-17 07:00:00', 50]\n",
      "2 --- ROW ['2023-12-17 08:00:00', 100]\n",
      "3 --- ROW ['2023-12-17 09:00:00', 20]\n",
      "4 --- ROW ['2023-12-17 10:00:00', 0]\n",
      "5 --- ROW ['2023-12-17 11:00:00', 100]\n",
      "6 --- ROW ['2023-12-17 12:00:00', 0]\n",
      "7 --- ROW ['2023-12-17 13:00:00', 100]\n",
      "8 --- ROW ['2023-12-17 14:00:00', 0]\n",
      "9 --- ROW ['2023-12-17 15:00:00', 0]\n",
      "10 --- ROW ['2023-12-17 16:00:00', 200]\n",
      "11 --- ROW ['2023-12-17 17:00:00', 0]\n"
     ]
    }
   ],
   "source": [
    "dataset_3 = []\n",
    "for date_aux,hourly in hourly_header.items():\n",
    "    dataset_3.append([date_aux,data_dict.get(hourly,0)])\n",
    "\n",
    "for i,row in enumerate(dataset_3):\n",
    "    print(f\"{i} --- ROW {row}\")"
   ]
  },
  {
   "cell_type": "code",
   "execution_count": 37,
   "metadata": {},
   "outputs": [
    {
     "data": {
      "text/plain": [
       "{8: 100, 9: 20, 11: 100, 13: 100, 16: 200, 7: 50, 6: 1}"
      ]
     },
     "execution_count": 37,
     "metadata": {},
     "output_type": "execute_result"
    }
   ],
   "source": [
    "data_dict"
   ]
  }
 ],
 "metadata": {
  "kernelspec": {
   "display_name": "Python 3",
   "language": "python",
   "name": "python3"
  },
  "language_info": {
   "codemirror_mode": {
    "name": "ipython",
    "version": 3
   },
   "file_extension": ".py",
   "mimetype": "text/x-python",
   "name": "python",
   "nbconvert_exporter": "python",
   "pygments_lexer": "ipython3",
   "version": "3.11.4"
  }
 },
 "nbformat": 4,
 "nbformat_minor": 2
}
