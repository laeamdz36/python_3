{
 "cells": [
  {
   "cell_type": "markdown",
   "metadata": {},
   "source": [
    "# Conditions and booleans"
   ]
  },
  {
   "cell_type": "code",
   "execution_count": 2,
   "metadata": {},
   "outputs": [
    {
     "name": "stdout",
     "output_type": "stream",
     "text": [
      "[[0.35028673 0.87719048 0.86837904 0.88807507]\n",
      " [0.45459508 0.08010876 0.45649309 0.56210639]\n",
      " [0.27012424 0.51819921 0.42045528 0.06088935]\n",
      " [0.79368723 0.15871669 0.46458313 0.04127268]]\n"
     ]
    }
   ],
   "source": [
    "import numpy as np\n",
    "\n",
    "A = np.random.random((4,4))\n",
    "print(A)"
   ]
  },
  {
   "cell_type": "code",
   "execution_count": 3,
   "metadata": {},
   "outputs": [
    {
     "name": "stdout",
     "output_type": "stream",
     "text": [
      "[[ True False False False]\n",
      " [ True  True  True False]\n",
      " [ True False  True  True]\n",
      " [False  True  True  True]]\n"
     ]
    }
   ],
   "source": [
    "print(A < 0.5)"
   ]
  },
  {
   "cell_type": "code",
   "execution_count": 4,
   "metadata": {},
   "outputs": [
    {
     "name": "stdout",
     "output_type": "stream",
     "text": [
      "[0.35028673 0.45459508 0.08010876 0.45649309 0.27012424 0.42045528\n",
      " 0.06088935 0.15871669 0.46458313 0.04127268]\n"
     ]
    }
   ],
   "source": [
    "print(A[A < 0.5])"
   ]
  },
  {
   "cell_type": "code",
   "execution_count": 8,
   "metadata": {},
   "outputs": [
    {
     "name": "stdout",
     "output_type": "stream",
     "text": [
      "[0.96742307 0.58957037 0.9129967  0.11418046 0.41050914 0.09697657\n",
      " 0.55996253 0.16451991 0.31409899 0.72593344 0.64523727 0.20608883] [[0.96742307 0.58957037 0.9129967  0.11418046]\n",
      " [0.41050914 0.09697657 0.55996253 0.16451991]\n",
      " [0.31409899 0.72593344 0.64523727 0.20608883]]\n"
     ]
    }
   ],
   "source": [
    "a = np.random.random(12)\n",
    "a_34=a.reshape(3,4)\n",
    "print(a,a_34)"
   ]
  }
 ],
 "metadata": {
  "kernelspec": {
   "display_name": "Python 3",
   "language": "python",
   "name": "python3"
  },
  "language_info": {
   "codemirror_mode": {
    "name": "ipython",
    "version": 3
   },
   "file_extension": ".py",
   "mimetype": "text/x-python",
   "name": "python",
   "nbconvert_exporter": "python",
   "pygments_lexer": "ipython3",
   "version": "3.11.4"
  },
  "orig_nbformat": 4
 },
 "nbformat": 4,
 "nbformat_minor": 2
}
