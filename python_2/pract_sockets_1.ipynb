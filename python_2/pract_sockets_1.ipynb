{
 "cells": [
  {
   "cell_type": "code",
   "execution_count": 1,
   "metadata": {},
   "outputs": [],
   "source": [
    "import socket as sk\n",
    "\n",
    "def port_scan(ip):\n",
    "    print(f\"\\n Starting a scan on {ip}\")\n",
    "    openPorts = 0 # 1024\n",
    "\n",
    "    for port in range(1,1024):\n",
    "        s = sk.socket(sk.AF_INET,sk.SOCK_STREAM)\n",
    "        s.settimeout(0.1)\n",
    "\n",
    "        try:\n",
    "            result = s.connect_ex((ip,port))\n",
    "            if result == 0:\n",
    "                print(f\"Port: {port}\")\n",
    "                openPorts += 1\n",
    "        except sk.error:\n",
    "            pass\n",
    "\n",
    "        finally:\n",
    "            s.close()"
   ]
  },
  {
   "cell_type": "code",
   "execution_count": 2,
   "metadata": {},
   "outputs": [
    {
     "name": "stdout",
     "output_type": "stream",
     "text": [
      "\n",
      " Starting a scan on 192.168.0.40\n",
      "Port: 21\n",
      "Port: 135\n",
      "Port: 139\n",
      "Port: 445\n"
     ]
    }
   ],
   "source": [
    "port_scan(\"192.168.0.40\")"
   ]
  }
 ],
 "metadata": {
  "kernelspec": {
   "display_name": "Python 3",
   "language": "python",
   "name": "python3"
  },
  "language_info": {
   "codemirror_mode": {
    "name": "ipython",
    "version": 3
   },
   "file_extension": ".py",
   "mimetype": "text/x-python",
   "name": "python",
   "nbconvert_exporter": "python",
   "pygments_lexer": "ipython3",
   "version": "3.11.4"
  }
 },
 "nbformat": 4,
 "nbformat_minor": 2
}
