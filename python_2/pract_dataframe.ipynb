{
 "cells": [
  {
   "cell_type": "markdown",
   "metadata": {},
   "source": []
  },
  {
   "cell_type": "code",
   "execution_count": 9,
   "metadata": {},
   "outputs": [
    {
     "name": "stdout",
     "output_type": "stream",
     "text": [
      "    A   B   C   D   E   F   G   H   I   J\n",
      "0  16   7  12   5   0   0   4   0  19   0\n",
      "1  10  16  12   9   5  13  17  11  11  10\n",
      "2   2   7  18   8   5   9   8   5  12   9\n",
      "3  18   1   6   0  18  17  19  13  19   5\n",
      "4   5  19   6   0   0  18  16   8  15  11\n",
      "5   3  16   9   4   6  13  10  14   3  16\n",
      "6  15  13  12   1  18   7  14  19   5  19\n",
      "7  12  10  11  18  16   6  19  19   1  14\n",
      "8   8  18  18   8  17   6   7   5   9   1\n",
      "9  14  12  12   6  17   3   8   3   9  16\n"
     ]
    }
   ],
   "source": [
    "import pandas as pd\n",
    "import numpy as np\n",
    "\n",
    "array_1=np.random.randint(0,20,100).reshape((10,10))\n",
    "df_1=pd.DataFrame(array_1,columns=[\"A\",\"B\",\"C\",\"D\",\"E\",\"F\",\"G\",\"H\",\"I\",\"J\"])\n",
    "print(df_1)\n",
    "df_2=df_1.copy()"
   ]
  },
  {
   "cell_type": "code",
   "execution_count": 15,
   "metadata": {},
   "outputs": [
    {
     "data": {
      "text/html": [
       "<div>\n",
       "<style scoped>\n",
       "    .dataframe tbody tr th:only-of-type {\n",
       "        vertical-align: middle;\n",
       "    }\n",
       "\n",
       "    .dataframe tbody tr th {\n",
       "        vertical-align: top;\n",
       "    }\n",
       "\n",
       "    .dataframe thead th {\n",
       "        text-align: right;\n",
       "    }\n",
       "</style>\n",
       "<table border=\"1\" class=\"dataframe\">\n",
       "  <thead>\n",
       "    <tr style=\"text-align: right;\">\n",
       "      <th></th>\n",
       "      <th>A</th>\n",
       "      <th>B</th>\n",
       "      <th>C</th>\n",
       "      <th>D</th>\n",
       "      <th>E</th>\n",
       "      <th>F</th>\n",
       "      <th>G</th>\n",
       "      <th>H</th>\n",
       "      <th>I</th>\n",
       "      <th>J</th>\n",
       "    </tr>\n",
       "  </thead>\n",
       "  <tbody>\n",
       "    <tr>\n",
       "      <th>0</th>\n",
       "      <td>False</td>\n",
       "      <td>False</td>\n",
       "      <td>False</td>\n",
       "      <td>False</td>\n",
       "      <td>False</td>\n",
       "      <td>False</td>\n",
       "      <td>False</td>\n",
       "      <td>False</td>\n",
       "      <td>False</td>\n",
       "      <td>False</td>\n",
       "    </tr>\n",
       "    <tr>\n",
       "      <th>1</th>\n",
       "      <td>False</td>\n",
       "      <td>False</td>\n",
       "      <td>False</td>\n",
       "      <td>False</td>\n",
       "      <td>False</td>\n",
       "      <td>False</td>\n",
       "      <td>True</td>\n",
       "      <td>False</td>\n",
       "      <td>False</td>\n",
       "      <td>False</td>\n",
       "    </tr>\n",
       "    <tr>\n",
       "      <th>2</th>\n",
       "      <td>False</td>\n",
       "      <td>False</td>\n",
       "      <td>False</td>\n",
       "      <td>False</td>\n",
       "      <td>False</td>\n",
       "      <td>False</td>\n",
       "      <td>False</td>\n",
       "      <td>False</td>\n",
       "      <td>False</td>\n",
       "      <td>False</td>\n",
       "    </tr>\n",
       "    <tr>\n",
       "      <th>3</th>\n",
       "      <td>False</td>\n",
       "      <td>False</td>\n",
       "      <td>False</td>\n",
       "      <td>False</td>\n",
       "      <td>False</td>\n",
       "      <td>True</td>\n",
       "      <td>False</td>\n",
       "      <td>False</td>\n",
       "      <td>False</td>\n",
       "      <td>False</td>\n",
       "    </tr>\n",
       "    <tr>\n",
       "      <th>4</th>\n",
       "      <td>False</td>\n",
       "      <td>False</td>\n",
       "      <td>False</td>\n",
       "      <td>False</td>\n",
       "      <td>False</td>\n",
       "      <td>False</td>\n",
       "      <td>False</td>\n",
       "      <td>False</td>\n",
       "      <td>False</td>\n",
       "      <td>False</td>\n",
       "    </tr>\n",
       "    <tr>\n",
       "      <th>5</th>\n",
       "      <td>False</td>\n",
       "      <td>False</td>\n",
       "      <td>False</td>\n",
       "      <td>False</td>\n",
       "      <td>False</td>\n",
       "      <td>False</td>\n",
       "      <td>False</td>\n",
       "      <td>False</td>\n",
       "      <td>False</td>\n",
       "      <td>False</td>\n",
       "    </tr>\n",
       "    <tr>\n",
       "      <th>6</th>\n",
       "      <td>False</td>\n",
       "      <td>False</td>\n",
       "      <td>False</td>\n",
       "      <td>False</td>\n",
       "      <td>False</td>\n",
       "      <td>False</td>\n",
       "      <td>False</td>\n",
       "      <td>False</td>\n",
       "      <td>False</td>\n",
       "      <td>False</td>\n",
       "    </tr>\n",
       "    <tr>\n",
       "      <th>7</th>\n",
       "      <td>False</td>\n",
       "      <td>False</td>\n",
       "      <td>False</td>\n",
       "      <td>False</td>\n",
       "      <td>False</td>\n",
       "      <td>False</td>\n",
       "      <td>False</td>\n",
       "      <td>False</td>\n",
       "      <td>False</td>\n",
       "      <td>False</td>\n",
       "    </tr>\n",
       "    <tr>\n",
       "      <th>8</th>\n",
       "      <td>False</td>\n",
       "      <td>False</td>\n",
       "      <td>False</td>\n",
       "      <td>False</td>\n",
       "      <td>True</td>\n",
       "      <td>False</td>\n",
       "      <td>False</td>\n",
       "      <td>False</td>\n",
       "      <td>False</td>\n",
       "      <td>False</td>\n",
       "    </tr>\n",
       "    <tr>\n",
       "      <th>9</th>\n",
       "      <td>False</td>\n",
       "      <td>False</td>\n",
       "      <td>False</td>\n",
       "      <td>False</td>\n",
       "      <td>True</td>\n",
       "      <td>False</td>\n",
       "      <td>False</td>\n",
       "      <td>False</td>\n",
       "      <td>False</td>\n",
       "      <td>False</td>\n",
       "    </tr>\n",
       "  </tbody>\n",
       "</table>\n",
       "</div>"
      ],
      "text/plain": [
       "       A      B      C      D      E      F      G      H      I      J\n",
       "0  False  False  False  False  False  False  False  False  False  False\n",
       "1  False  False  False  False  False  False   True  False  False  False\n",
       "2  False  False  False  False  False  False  False  False  False  False\n",
       "3  False  False  False  False  False   True  False  False  False  False\n",
       "4  False  False  False  False  False  False  False  False  False  False\n",
       "5  False  False  False  False  False  False  False  False  False  False\n",
       "6  False  False  False  False  False  False  False  False  False  False\n",
       "7  False  False  False  False  False  False  False  False  False  False\n",
       "8  False  False  False  False   True  False  False  False  False  False\n",
       "9  False  False  False  False   True  False  False  False  False  False"
      ]
     },
     "execution_count": 15,
     "metadata": {},
     "output_type": "execute_result"
    }
   ],
   "source": [
    "df_2.isin([17])"
   ]
  },
  {
   "cell_type": "code",
   "execution_count": 22,
   "metadata": {},
   "outputs": [
    {
     "data": {
      "text/plain": [
       "A      B      C      D      E    \n",
       "False  False  False  False  False    8\n",
       "                            True     2\n",
       "Name: count, dtype: int64"
      ]
     },
     "execution_count": 22,
     "metadata": {},
     "output_type": "execute_result"
    }
   ],
   "source": [
    "df_2.iloc[:,:5].isin([17]).value_counts()"
   ]
  },
  {
   "cell_type": "code",
   "execution_count": 35,
   "metadata": {},
   "outputs": [
    {
     "name": "stdout",
     "output_type": "stream",
     "text": [
      "I\n",
      "False    1\n",
      "True     1\n",
      "Name: count, dtype: int64\n"
     ]
    }
   ],
   "source": [
    "print(df_2.iloc[2:4,8].isin([19]).value_counts())"
   ]
  },
  {
   "cell_type": "code",
   "execution_count": 36,
   "metadata": {},
   "outputs": [
    {
     "name": "stdout",
     "output_type": "stream",
     "text": [
      "          A         B         C         D         E         F         G  \\\n",
      "0  4.000000  2.645751  3.464102  2.236068  0.000000  0.000000  2.000000   \n",
      "1  3.162278  4.000000  3.464102  3.000000  2.236068  3.605551  4.123106   \n",
      "2  1.414214  2.645751  4.242641  2.828427  2.236068  3.000000  2.828427   \n",
      "3  4.242641  1.000000  2.449490  0.000000  4.242641  4.123106  4.358899   \n",
      "4  2.236068  4.358899  2.449490  0.000000  0.000000  4.242641  4.000000   \n",
      "5  1.732051  4.000000  3.000000  2.000000  2.449490  3.605551  3.162278   \n",
      "6  3.872983  3.605551  3.464102  1.000000  4.242641  2.645751  3.741657   \n",
      "7  3.464102  3.162278  3.316625  4.242641  4.000000  2.449490  4.358899   \n",
      "8  2.828427  4.242641  4.242641  2.828427  4.123106  2.449490  2.645751   \n",
      "9  3.741657  3.464102  3.464102  2.449490  4.123106  1.732051  2.828427   \n",
      "\n",
      "          H         I         J  \n",
      "0  0.000000  4.358899  0.000000  \n",
      "1  3.316625  3.316625  3.162278  \n",
      "2  2.236068  3.464102  3.000000  \n",
      "3  3.605551  4.358899  2.236068  \n",
      "4  2.828427  3.872983  3.316625  \n",
      "5  3.741657  1.732051  4.000000  \n",
      "6  4.358899  2.236068  4.358899  \n",
      "7  4.358899  1.000000  3.741657  \n",
      "8  2.236068  3.000000  1.000000  \n",
      "9  1.732051  3.000000  4.000000  \n"
     ]
    }
   ],
   "source": [
    "print(np.sqrt(df_2))"
   ]
  },
  {
   "cell_type": "code",
   "execution_count": 49,
   "metadata": {},
   "outputs": [
    {
     "name": "stdout",
     "output_type": "stream",
     "text": [
      "     Data_1    Data_2\n",
      "0       0.0  0.000000\n",
      "1       0.5  0.479426\n",
      "2       1.0  0.841471\n",
      "3       1.5  0.997495\n",
      "4       2.0  0.909297\n",
      "..      ...       ...\n",
      "715   357.5 -0.598448\n",
      "716   358.0 -0.141090\n",
      "717   358.5  0.350811\n",
      "718   359.0  0.756822\n",
      "719   359.5  0.977536\n",
      "\n",
      "[720 rows x 2 columns]\n"
     ]
    }
   ],
   "source": [
    "df_3 = pd.DataFrame(np.arange(0, 360,0.5), columns=[\"Data_1\"])\n",
    "df_3[\"Data_2\"] = np.sin(df_3[\"Data_1\"])\n",
    "print(df_3)"
   ]
  }
 ],
 "metadata": {
  "kernelspec": {
   "display_name": "Python 3",
   "language": "python",
   "name": "python3"
  },
  "language_info": {
   "codemirror_mode": {
    "name": "ipython",
    "version": 3
   },
   "file_extension": ".py",
   "mimetype": "text/x-python",
   "name": "python",
   "nbconvert_exporter": "python",
   "pygments_lexer": "ipython3",
   "version": "3.11.4"
  },
  "orig_nbformat": 4
 },
 "nbformat": 4,
 "nbformat_minor": 2
}
