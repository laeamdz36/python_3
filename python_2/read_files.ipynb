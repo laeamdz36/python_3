{
 "cells": [
  {
   "cell_type": "code",
   "execution_count": 1,
   "metadata": {},
   "outputs": [],
   "source": [
    "import re as regx"
   ]
  },
  {
   "cell_type": "code",
   "execution_count": 5,
   "metadata": {},
   "outputs": [
    {
     "name": "stdout",
     "output_type": "stream",
     "text": [
      "0 -> 2023-12-27 20:32:38,760 DEBUG    [logger.py:8] Este es un mensaje para debug\n",
      "1 -> 2023-12-27 20:32:38,760 INFO     [logger.py:9] Info only\n",
      "2 -> 2023-12-27 20:32:38,760 WARNING  [logger.py:10] WARNING DUDE!\n",
      "3 -> 2023-12-27 20:33:09,744 DEBUG    [logger.py:8] Este es un mensaje para debug\n",
      "4 -> 2023-12-27 20:33:09,744 INFO     [logger.py:9] Info only\n",
      "5 -> 2023-12-27 20:33:09,744 WARNING  [logger.py:10] WARNING DUDE!\n",
      "6 -> 2023-12-27 20:33:11,504 DEBUG    [logger.py:8] Este es un mensaje para debug\n",
      "7 -> 2023-12-27 20:33:11,504 INFO     [logger.py:9] Info only\n",
      "8 -> 2023-12-27 20:33:11,504 WARNING  [logger.py:10] WARNING DUDE!\n",
      "9 -> 2023-12-27 20:33:12,091 DEBUG    [logger.py:8] Este es un mensaje para debug\n",
      "10 -> 2023-12-27 20:33:12,091 INFO     [logger.py:9] Info only\n",
      "11 -> 2023-12-27 20:33:12,092 WARNING  [logger.py:10] WARNING DUDE!\n",
      "12 -> 2023-12-27 20:33:12,558 DEBUG    [logger.py:8] Este es un mensaje para debug\n",
      "13 -> 2023-12-27 20:33:12,558 INFO     [logger.py:9] Info only\n",
      "14 -> 2023-12-27 20:33:12,558 WARNING  [logger.py:10] WARNING DUDE!\n",
      "15 -> 2023-12-27 20:33:13,007 DEBUG    [logger.py:8] Este es un mensaje para debug\n",
      "16 -> 2023-12-27 20:33:13,007 INFO     [logger.py:9] Info only\n",
      "17 -> 2023-12-27 20:33:13,007 WARNING  [logger.py:10] WARNING DUDE!\n",
      "18 -> 2023-12-27 20:33:13,453 DEBUG    [logger.py:8] Este es un mensaje para debug\n",
      "19 -> 2023-12-27 20:33:13,453 INFO     [logger.py:9] Info only\n",
      "20 -> 2023-12-27 20:33:13,453 WARNING  [logger.py:10] WARNING DUDE!\n",
      "21 -> 2023-12-27 20:33:13,871 DEBUG    [logger.py:8] Este es un mensaje para debug\n",
      "22 -> 2023-12-27 20:33:13,871 INFO     [logger.py:9] Info only\n",
      "23 -> 2023-12-27 20:33:13,871 WARNING  [logger.py:10] WARNING DUDE!\n",
      "24 -> 2023-12-27 20:33:15,484 DEBUG    [logger.py:8] Este es un mensaje para debug\n",
      "25 -> 2023-12-27 20:33:15,485 INFO     [logger.py:9] Info only\n",
      "26 -> 2023-12-27 20:33:15,485 WARNING  [logger.py:10] WARNING DUDE!\n",
      "27 -> 2023-12-27 20:53:29,771 DEBUG    [logger.py:8] Este es un mensaje para debug\n",
      "28 -> 2023-12-27 20:53:29,772 INFO     [logger.py:9] Info only\n",
      "29 -> 2023-12-27 20:53:29,772 WARNING  [logger.py:10] WARNING DUDE!\n",
      "30 -> 2023-12-27 20:53:34,773 INFO     [logger.py:14] First message\n",
      "31 -> 2023-12-27 20:53:35,773 INFO     [logger.py:16] Start of building list\n",
      "32 -> 2023-12-27 20:53:35,773 INFO     [logger.py:19] List created\n",
      "33 -> 2023-12-27 20:53:38,774 INFO     [logger.py:24] Printing numbers on list -> 1\n",
      "34 -> 2023-12-27 20:53:38,774 INFO     [logger.py:24] Printing numbers on list -> 2\n",
      "35 -> 2023-12-27 20:53:38,774 INFO     [logger.py:24] Printing numbers on list -> 3\n",
      "36 -> 2023-12-27 20:53:38,774 INFO     [logger.py:24] Printing numbers on list -> 4\n",
      "37 -> 2023-12-27 20:53:38,774 INFO     [logger.py:24] Printing numbers on list -> 5\n",
      "38 -> 2023-12-27 20:53:41,775 INFO     [logger.py:27] Finishing program\n",
      "39\n"
     ]
    }
   ],
   "source": [
    "file_1 = open(\"./logs.txt\")\n",
    "lines = file_1.readlines()\n",
    "for i,line in enumerate(lines):\n",
    "    print(f\"{i} -> {line}\",end=\"\")\n",
    "print(len(lines))\n",
    "file_1.close()"
   ]
  },
  {
   "cell_type": "code",
   "execution_count": null,
   "metadata": {},
   "outputs": [],
   "source": [
    "data_concentrator = \"./Data concentrator 5.txt\"\n",
    "file_dc = open(data_concentrator)\n",
    "dc_lines = "
   ]
  }
 ],
 "metadata": {
  "kernelspec": {
   "display_name": "Python 3",
   "language": "python",
   "name": "python3"
  },
  "language_info": {
   "codemirror_mode": {
    "name": "ipython",
    "version": 3
   },
   "file_extension": ".py",
   "mimetype": "text/x-python",
   "name": "python",
   "nbconvert_exporter": "python",
   "pygments_lexer": "ipython3",
   "version": "3.11.4"
  }
 },
 "nbformat": 4,
 "nbformat_minor": 2
}
