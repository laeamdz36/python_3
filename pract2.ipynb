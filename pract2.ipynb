{
 "cells": [
  {
   "cell_type": "code",
   "execution_count": 1,
   "metadata": {},
   "outputs": [],
   "source": [
    "# create counter objet with next reqs\n",
    "# increse and decrease by one\n",
    "\n",
    "class Counter:\n",
    "\n",
    "    def __init__(self,counterName):\n",
    "        \n",
    "\n",
    "        \n",
    "        self.counterName = counterName\n",
    "        self.count = 0\n",
    "    \n",
    "    def inc(self):\n",
    "        self.count += 1\n"
   ]
  },
  {
   "cell_type": "code",
   "execution_count": 4,
   "metadata": {},
   "outputs": [
    {
     "name": "stdout",
     "output_type": "stream",
     "text": [
      "1\n"
     ]
    }
   ],
   "source": [
    "counter_1 = Counter(\"Delay_1\")\n",
    "\n",
    "counter_1.inc()\n",
    "print(counter_1.count)"
   ]
  }
 ],
 "metadata": {
  "kernelspec": {
   "display_name": "Python 3",
   "language": "python",
   "name": "python3"
  },
  "language_info": {
   "codemirror_mode": {
    "name": "ipython",
    "version": 3
   },
   "file_extension": ".py",
   "mimetype": "text/x-python",
   "name": "python",
   "nbconvert_exporter": "python",
   "pygments_lexer": "ipython3",
   "version": "3.11.4"
  }
 },
 "nbformat": 4,
 "nbformat_minor": 2
}
