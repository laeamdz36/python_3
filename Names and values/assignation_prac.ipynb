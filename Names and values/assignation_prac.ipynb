{
 "cells": [
  {
   "cell_type": "code",
   "execution_count": 3,
   "metadata": {},
   "outputs": [
    {
     "name": "stdout",
     "output_type": "stream",
     "text": [
      "True\n",
      "False\n",
      "Persona Hola\n",
      "Luis\n"
     ]
    }
   ],
   "source": [
    "people = \"Luis\"\n",
    "\n",
    "def greet(person):\n",
    "    \"\"\"Function\"\"\"\n",
    "    print(person is people)\n",
    "    person = \"Hola\"\n",
    "    print(person is people)\n",
    "    print(f\"Persona {person}\")\n",
    "\n",
    "people = \"Luis\"\n",
    "greet(people)\n",
    "print(people)\n"
   ]
  },
  {
   "cell_type": "code",
   "execution_count": 10,
   "metadata": {},
   "outputs": [],
   "source": [
    "def find_lowest(temps):\n",
    "    temps.sort()\n",
    "    print(temps[0])\n",
    "\n",
    "def find_lowest_1(temps):\n",
    "    sorted_temps = sorted(temps)\n",
    "    print(sorted_temps[0])"
   ]
  },
  {
   "cell_type": "code",
   "execution_count": 11,
   "metadata": {},
   "outputs": [
    {
     "name": "stdout",
     "output_type": "stream",
     "text": [
      "2\n",
      "[2, 5, 12, 34, 67, 90]\n"
     ]
    }
   ],
   "source": [
    "\"\"\" Al ser las listas un elemento mutable, al pasar el array temperatures a la funcion find_lowest()\n",
    "    la funcion aplica un metodo que modifica en el valor (la lista) \n",
    "\n",
    "    en la funcion find_lowest_1(), se aplica un metodo que implcitamente crea una copia de la lista (sorted())\n",
    "\"\"\"\n",
    "temperatures = [12,34,5,67,2,90]\n",
    "find_lowest(temperatures)\n",
    "print(temperatures)"
   ]
  },
  {
   "cell_type": "code",
   "execution_count": 9,
   "metadata": {},
   "outputs": [
    {
     "name": "stdout",
     "output_type": "stream",
     "text": [
      "2\n",
      "[12, 34, 5, 67, 2, 90]\n"
     ]
    }
   ],
   "source": [
    "temperatures = [12,34,5,67,2,90]\n",
    "find_lowest_1(temperatures)\n",
    "print(temperatures)"
   ]
  }
 ],
 "metadata": {
  "kernelspec": {
   "display_name": "Python 3",
   "language": "python",
   "name": "python3"
  },
  "language_info": {
   "codemirror_mode": {
    "name": "ipython",
    "version": 3
   },
   "file_extension": ".py",
   "mimetype": "text/x-python",
   "name": "python",
   "nbconvert_exporter": "python",
   "pygments_lexer": "ipython3",
   "version": "3.11.4"
  }
 },
 "nbformat": 4,
 "nbformat_minor": 2
}
