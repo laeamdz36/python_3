{
 "cells": [
  {
   "cell_type": "code",
   "execution_count": 10,
   "metadata": {},
   "outputs": [
    {
     "name": "stdout",
     "output_type": "stream",
     "text": [
      "['X', '-', '-']\n",
      "['X', '-', '-']\n",
      "['X', '-', '-']\n"
     ]
    }
   ],
   "source": [
    "# en las listas individual items are references\n",
    "board = [[\"-\"] * 3] * 3\n",
    "board[1][0] = \"X\"\n",
    "for row in board:\n",
    "    print(row)"
   ]
  },
  {
   "cell_type": "code",
   "execution_count": 9,
   "metadata": {},
   "outputs": [
    {
     "name": "stdout",
     "output_type": "stream",
     "text": [
      "['-', '-', '-']\n",
      "['X', '-', '-']\n",
      "['-', '-', '-']\n"
     ]
    }
   ],
   "source": [
    "board_1 = [[\"-\"] * 3 for row in range(3)]\n",
    "board_1[1][0] = \"X\"\n",
    "for row in board_1:\n",
    "    print(row)"
   ]
  },
  {
   "cell_type": "code",
   "execution_count": 13,
   "metadata": {},
   "outputs": [
    {
     "name": "stdout",
     "output_type": "stream",
     "text": [
      "[300, 95, 120]\n",
      "[400, 95, 120]\n"
     ]
    }
   ],
   "source": [
    "# mutando el contenido de una tupla\n",
    "# Asignacion de listas\n",
    "scores_team_1 = [100, 95, 120]\n",
    "scores_team_2 = [45, 30, 10]\n",
    "scores_team_3 = [200, 35, 190]\n",
    "\n",
    "# asignaciond e las listas a una tupla\n",
    "scores = (scores_team_1, scores_team_2, scores_team_3)\n",
    "\n",
    "# asignacion de nuevo valor a un item de la lista 1\n",
    "scores_team_1[0] = 300\n",
    "print(scores[0]) # prints [300, 95, 120]\n",
    "\n",
    "scores[0][0] = 400\n",
    "print(scores[0]) # prints [400, 95, 120]"
   ]
  },
  {
   "cell_type": "code",
   "execution_count": 19,
   "metadata": {},
   "outputs": [
    {
     "name": "stdout",
     "output_type": "stream",
     "text": [
      "hot_taco ['Queso', 'Cilantro', 'Carne', 'Sauce']\n",
      "mild_taco ['Queso', 'Cilantro', 'Carne', 'Sauce']\n",
      "Toppings ['Queso', 'Cilantro', 'Carne', 'Sauce']\n"
     ]
    }
   ],
   "source": [
    "# creacion de clase de tacos\n",
    "class Taco:\n",
    "\n",
    "    def __init__(self,toppings) -> None:\n",
    "        self.ingredients = toppings\n",
    "\n",
    "    def add_sauce(self,sauce):\n",
    "        self.ingredients.append(sauce)\n",
    "\n",
    "toppings = [\"Queso\",\"Cilantro\",\"Carne\"]\n",
    "hot_taco  = Taco(toppings)\n",
    "mild_taco = Taco(toppings)\n",
    "\n",
    "hot_taco.add_sauce(\"Sauce\")\n",
    "\n",
    "print(f\"hot_taco {hot_taco.ingredients}\")\n",
    "print(f\"mild_taco {mild_taco.ingredients}\")\n",
    "print(f\"Toppings {toppings}\")"
   ]
  },
  {
   "cell_type": "code",
   "execution_count": 20,
   "metadata": {},
   "outputs": [
    {
     "name": "stdout",
     "output_type": "stream",
     "text": [
      "hot_taco ['Queso', 'Cilantro', 'Carne', 'Sauce']\n",
      "mild_taco ['Queso', 'Cilantro', 'Carne']\n",
      "Toppings ['Queso', 'Cilantro', 'Carne']\n"
     ]
    }
   ],
   "source": [
    "import copy\n",
    "class Taco:\n",
    "\n",
    "    def __init__(self,toppings) -> None:\n",
    "        # Se realiza copia de la lista pasada a ala clase\n",
    "        # para asi no mutar el valor de la referencia pasada a la clase\n",
    "        self.ingredients = copy.copy(toppings)\n",
    "\n",
    "    def add_sauce(self,sauce):\n",
    "        self.ingredients.append(sauce)\n",
    "\n",
    "toppings = [\"Queso\",\"Cilantro\",\"Carne\"]\n",
    "hot_taco  = Taco(toppings)\n",
    "mild_taco = Taco(toppings)\n",
    "\n",
    "hot_taco.add_sauce(\"Sauce\")\n",
    "\n",
    "print(f\"hot_taco {hot_taco.ingredients}\")\n",
    "print(f\"mild_taco {mild_taco.ingredients}\")\n",
    "print(f\"Toppings {toppings}\")"
   ]
  },
  {
   "cell_type": "code",
   "execution_count": 22,
   "metadata": {},
   "outputs": [
    {
     "name": "stdout",
     "output_type": "stream",
     "text": [
      "hot_taco ['Lechuga', 'Tomate', 'carne', 'Salsa']\n",
      "mild_taco ['Lechuga', 'Tomate', 'carne', 'Salsa']\n",
      "Toppings ['Lechuga', 'Tomate', 'carne']\n"
     ]
    }
   ],
   "source": [
    "default_ingredients = [\"Lechuga\",\"Tomate\",\"carne\"]\n",
    "mild_taco_2 = Taco(default_ingredients)\n",
    "hot_taco_2 = copy.copy(mild_taco_2)\n",
    "hot_taco_2.add_sauce(\"Salsa\")\n",
    "\n",
    "# Se realiza copia de objeto mild_tacp_2\n",
    "# se agregra salsa a hot taco 2 que es una copia de mild_taco_2\n",
    "\n",
    "print(f\"hot_taco {hot_taco_2.ingredients}\")\n",
    "# Cuando se consulta mild_taco_2, se obseerva que que fue mutado\n",
    "# Aun cuando no se realizo ninguna modificacion sobre mild_taco_2, \n",
    "# Si nnno las modificaciones fueron sobre hot_taco_2\n",
    "print(f\"mild_taco {mild_taco_2.ingredients}\")\n",
    "print(f\"Toppings {default_ingredients}\")"
   ]
  },
  {
   "cell_type": "code",
   "execution_count": 25,
   "metadata": {},
   "outputs": [
    {
     "name": "stdout",
     "output_type": "stream",
     "text": [
      "hot_taco ['Lechuga', 'Tomate', 'carne', 'Salsa']\n",
      "mild_taco ['Lechuga', 'Tomate', 'carne']\n",
      "Toppings ['Lechuga', 'Tomate', 'carne']\n"
     ]
    }
   ],
   "source": [
    "# para solucionar el problema anterio, se realiza una deep copy, para asi copiar tambien\n",
    "# asegurar que cualquier valor mutable dentro dell objeto tambien es copiado\n",
    "default_ingredients = [\"Lechuga\",\"Tomate\",\"carne\"]\n",
    "mild_taco_2 = Taco(default_ingredients)\n",
    "hot_taco_2 = copy.deepcopy(mild_taco_2)\n",
    "hot_taco_2.add_sauce(\"Salsa\")\n",
    "\n",
    "# Se realiza copia de objeto mild_taco_2\n",
    "# se agregra salsa a hot taco 2 que es una copia de mild_taco_2\n",
    "\n",
    "print(f\"mild_taco {mild_taco_2.ingredients}\")\n",
    "print(f\"hot_taco {hot_taco_2.ingredients}\")\n",
    "print(f\"Toppings {default_ingredients}\")"
   ]
  }
 ],
 "metadata": {
  "kernelspec": {
   "display_name": "Python 3",
   "language": "python",
   "name": "python3"
  },
  "language_info": {
   "codemirror_mode": {
    "name": "ipython",
    "version": 3
   },
   "file_extension": ".py",
   "mimetype": "text/x-python",
   "name": "python",
   "nbconvert_exporter": "python",
   "pygments_lexer": "ipython3",
   "version": "3.11.4"
  }
 },
 "nbformat": 4,
 "nbformat_minor": 2
}
