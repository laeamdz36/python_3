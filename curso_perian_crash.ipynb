{
 "cells": [
  {
   "cell_type": "code",
   "execution_count": 1,
   "metadata": {},
   "outputs": [],
   "source": [
    "import pandas as pd"
   ]
  },
  {
   "cell_type": "code",
   "execution_count": 2,
   "metadata": {},
   "outputs": [],
   "source": [
    "# crear serie con pandas\n",
    "\n",
    "mydict = {\"Luis\":34,\"Albertp\":3,\"Abigail\":34}\n",
    "myseries = pd.Series(mydict)"
   ]
  },
  {
   "cell_type": "code",
   "execution_count": 3,
   "metadata": {},
   "outputs": [
    {
     "data": {
      "text/plain": [
       "Luis       34\n",
       "Albertp     3\n",
       "Abigail    34\n",
       "dtype: int64"
      ]
     },
     "execution_count": 3,
     "metadata": {},
     "output_type": "execute_result"
    }
   ],
   "source": [
    "myseries"
   ]
  },
  {
   "cell_type": "code",
   "execution_count": 6,
   "metadata": {},
   "outputs": [],
   "source": [
    "q1 = {\"Japan\":400,\"China\":300,\"india\":500,\"USA\":200}\n",
    "q2 = {\"China\":150,\"india\":250,\"Mexico\":250,\"Japan\":100,\"Brazil\":600}\n",
    "\n",
    "sales_q1 = pd.Series(q1)\n",
    "sales_q2 = pd.Series(q2)"
   ]
  },
  {
   "cell_type": "code",
   "execution_count": 8,
   "metadata": {},
   "outputs": [
    {
     "data": {
      "text/plain": [
       "Japan     800\n",
       "China     600\n",
       "india    1000\n",
       "USA       400\n",
       "dtype: int64"
      ]
     },
     "execution_count": 8,
     "metadata": {},
     "output_type": "execute_result"
    }
   ],
   "source": [
    "# Broadcasting operation\n",
    "sales_q1 * 2"
   ]
  },
  {
   "cell_type": "code",
   "execution_count": 9,
   "metadata": {},
   "outputs": [
    {
     "data": {
      "text/plain": [
       "Brazil      NaN\n",
       "China     450.0\n",
       "Japan     500.0\n",
       "Mexico      NaN\n",
       "USA         NaN\n",
       "india     750.0\n",
       "dtype: float64"
      ]
     },
     "execution_count": 9,
     "metadata": {},
     "output_type": "execute_result"
    }
   ],
   "source": [
    "sales_q1 + sales_q2"
   ]
  },
  {
   "cell_type": "code",
   "execution_count": 11,
   "metadata": {},
   "outputs": [
    {
     "data": {
      "text/plain": [
       "Brazil    600.0\n",
       "China     450.0\n",
       "Japan     500.0\n",
       "Mexico    250.0\n",
       "USA       200.0\n",
       "india     750.0\n",
       "dtype: float64"
      ]
     },
     "execution_count": 11,
     "metadata": {},
     "output_type": "execute_result"
    }
   ],
   "source": [
    "sales_q1.add(sales_q2,fill_value=0)"
   ]
  },
  {
   "cell_type": "code",
   "execution_count": 13,
   "metadata": {},
   "outputs": [
    {
     "name": "stdout",
     "output_type": "stream",
     "text": [
      " El volumen de la unidad C no tiene etiqueta.\n",
      " El n�mero de serie del volumen es: FC97-57A1\n",
      "\n",
      " Directorio de c:\\Users\\Automation\\Documents\\python\n",
      "\n",
      "16/02/2024  06:31 p. m.    <DIR>          .\n",
      "13/02/2024  06:52 p. m.    <DIR>          ..\n",
      "10/08/2023  08:00 p. m.    <DIR>          .vscode\n",
      "12/08/2023  07:49 p. m.    <DIR>          __pycache__\n",
      "14/08/2023  08:53 p. m.             1,900 crew_analyze.py\n",
      "12/08/2023  07:49 p. m.               506 crew_module.py\n",
      "16/02/2024  07:31 p. m.             3,662 curso_perian_crash.ipynb\n",
      "10/08/2023  08:14 p. m.               212 hola_mundo.py\n",
      "12/08/2023  07:25 p. m.    <DIR>          json_files\n",
      "28/01/2024  09:33 p. m.             2,556 list_comp.ipynb\n",
      "12/08/2023  07:26 p. m.                37 module_sumarize.py\n",
      "09/02/2024  09:12 p. m.             2,117 pract_friday.ipynb\n",
      "09/02/2024  09:54 p. m.             1,256 pract2.ipynb\n",
      "10/08/2023  08:20 p. m.               145 practical_test.py\n",
      "15/02/2024  11:03 p. m.    <DIR>          practicas_seaborn\n",
      "23/09/2023  02:26 p. m.            33,782 scipy_fft.ipynb\n",
      "30/01/2024  11:05 p. m.               914 socket_pract.ipynb\n",
      "10/02/2024  12:48 a. m.             1,802 sorting_list1.ipynb\n",
      "14/01/2024  09:30 a. m.    <DIR>          text_files\n",
      "              12 archivos         48,889 bytes\n",
      "               7 dirs  152,899,575,808 bytes libres\n"
     ]
    }
   ],
   "source": [
    "ls"
   ]
  },
  {
   "cell_type": "code",
   "execution_count": 5,
   "metadata": {},
   "outputs": [
    {
     "name": "stdout",
     "output_type": "stream",
     "text": [
      "<class 'dict_values'>\n"
     ]
    }
   ],
   "source": [
    "dictionary_aux = {\"Uno\":1,\"Dos\":2,\"Tres\":3}\n",
    "values = dictionary_aux.values()\n",
    "\n",
    "len(dictionary_aux)\n",
    "print(type(values))\n"
   ]
  }
 ],
 "metadata": {
  "kernelspec": {
   "display_name": "Python 3",
   "language": "python",
   "name": "python3"
  },
  "language_info": {
   "codemirror_mode": {
    "name": "ipython",
    "version": 3
   },
   "file_extension": ".py",
   "mimetype": "text/x-python",
   "name": "python",
   "nbconvert_exporter": "python",
   "pygments_lexer": "ipython3",
   "version": "3.11.4"
  }
 },
 "nbformat": 4,
 "nbformat_minor": 2
}
