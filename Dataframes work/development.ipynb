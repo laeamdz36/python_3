{
 "cells": [
  {
   "cell_type": "code",
   "execution_count": 4,
   "metadata": {},
   "outputs": [],
   "source": [
    "import pandas as pd\n",
    "from pathlib import Path\n",
    "import os"
   ]
  },
  {
   "cell_type": "code",
   "execution_count": 8,
   "metadata": {},
   "outputs": [
    {
     "name": "stdout",
     "output_type": "stream",
     "text": [
      "data\\2024-05-28_icca.csv\n",
      "data\\2024-05-29_icca.csv\n",
      "data\\2024-05-30_icca.csv\n",
      "data\\2024-05-31_icca.csv\n",
      "data\\icca_file_2.csv\n",
      "data\\new_icca.csv\n"
     ]
    }
   ],
   "source": [
    "data_path = Path(\"./data\")\n",
    "\n",
    "files_list = os.listdir(data_path)\n",
    "\n",
    "# comprehension dataframes\n",
    "dataframes_list = []\n",
    "for file in files_list:\n",
    "    file_path = os.path.join(data_path,file)\n",
    "    dataframes_list.append(pd.read_csv(file_path))\n",
    "    print(file_path)\n",
    "\n",
    "for dataframe in dataframes_list:\n",
    "    print()"
   ]
  },
  {
   "cell_type": "code",
   "execution_count": 9,
   "metadata": {},
   "outputs": [
    {
     "name": "stdout",
     "output_type": "stream",
     "text": [
      "<class 'pandas.core.frame.DataFrame'>\n",
      "RangeIndex: 4801 entries, 0 to 4800\n",
      "Data columns (total 4 columns):\n",
      " #   Column                      Non-Null Count  Dtype \n",
      "---  ------                      --------------  ----- \n",
      " 0   production_count_timestamp  4801 non-null   object\n",
      " 1   model_number                4801 non-null   object\n",
      " 2   serial_number               4801 non-null   object\n",
      " 3   special_comments            4801 non-null   object\n",
      "dtypes: object(4)\n",
      "memory usage: 150.2+ KB\n",
      "None\n",
      "<class 'pandas.core.frame.DataFrame'>\n",
      "RangeIndex: 5542 entries, 0 to 5541\n",
      "Data columns (total 4 columns):\n",
      " #   Column                      Non-Null Count  Dtype \n",
      "---  ------                      --------------  ----- \n",
      " 0   production_count_timestamp  5542 non-null   object\n",
      " 1   model_number                5542 non-null   object\n",
      " 2   serial_number               5542 non-null   object\n",
      " 3   special_comments            5542 non-null   object\n",
      "dtypes: object(4)\n",
      "memory usage: 173.3+ KB\n",
      "None\n",
      "<class 'pandas.core.frame.DataFrame'>\n",
      "RangeIndex: 5680 entries, 0 to 5679\n",
      "Data columns (total 4 columns):\n",
      " #   Column                      Non-Null Count  Dtype \n",
      "---  ------                      --------------  ----- \n",
      " 0   production_count_timestamp  5680 non-null   object\n",
      " 1   model_number                5680 non-null   object\n",
      " 2   serial_number               5680 non-null   object\n",
      " 3   special_comments            5680 non-null   object\n",
      "dtypes: object(4)\n",
      "memory usage: 177.6+ KB\n",
      "None\n",
      "<class 'pandas.core.frame.DataFrame'>\n",
      "RangeIndex: 3432 entries, 0 to 3431\n",
      "Data columns (total 4 columns):\n",
      " #   Column                      Non-Null Count  Dtype \n",
      "---  ------                      --------------  ----- \n",
      " 0   production_count_timestamp  3432 non-null   object\n",
      " 1   model_number                3432 non-null   object\n",
      " 2   serial_number               3432 non-null   object\n",
      " 3   special_comments            3432 non-null   object\n",
      "dtypes: object(4)\n",
      "memory usage: 107.4+ KB\n",
      "None\n",
      "<class 'pandas.core.frame.DataFrame'>\n",
      "RangeIndex: 19455 entries, 0 to 19454\n",
      "Data columns (total 5 columns):\n",
      " #   Column                      Non-Null Count  Dtype \n",
      "---  ------                      --------------  ----- \n",
      " 0   Unnamed: 0                  19455 non-null  int64 \n",
      " 1   model_number                19455 non-null  object\n",
      " 2   serial_number               19455 non-null  object\n",
      " 3   special_comments            19455 non-null  object\n",
      " 4   production_count_timestamp  19455 non-null  object\n",
      "dtypes: int64(1), object(4)\n",
      "memory usage: 760.1+ KB\n",
      "None\n",
      "<class 'pandas.core.frame.DataFrame'>\n",
      "RangeIndex: 19155 entries, 0 to 19154\n",
      "Data columns (total 6 columns):\n",
      " #   Column                      Non-Null Count  Dtype \n",
      "---  ------                      --------------  ----- \n",
      " 0   Unnamed: 0.1                19155 non-null  int64 \n",
      " 1   Unnamed: 0                  19155 non-null  int64 \n",
      " 2   model_number                19155 non-null  object\n",
      " 3   serial_number               19155 non-null  object\n",
      " 4   special_comments            19155 non-null  object\n",
      " 5   production_count_timestamp  19155 non-null  object\n",
      "dtypes: int64(2), object(4)\n",
      "memory usage: 898.0+ KB\n",
      "None\n"
     ]
    }
   ],
   "source": [
    "for df in dataframes_list:\n",
    "    print(df.info())"
   ]
  },
  {
   "cell_type": "code",
   "execution_count": 71,
   "metadata": {},
   "outputs": [
    {
     "name": "stdout",
     "output_type": "stream",
     "text": [
      "00 | Columna: Unnamed: 0.1.................. | 19,155.00 registros unicos\n",
      "01 | Columna: Unnamed: 0.................... | 19,155.00 registros unicos\n",
      "02 | Columna: model_number.................. |     41.00 registros unicos\n",
      "03 | Columna: serial_number................. | 19,155.00 registros unicos\n",
      "04 | Columna: special_comments.............. |      4.00 registros unicos\n",
      "05 | Columna: production_count_timestamp.... | 18,638.00 registros unicos\n"
     ]
    }
   ],
   "source": [
    "# obtener el numero de registros unicos, protoripar funcion\n",
    "def report_uniques(df):\n",
    "    \"\"\"Give a dataframe and will perform a unique register report\"\"\"\n",
    "    for i,column in enumerate(df.columns):\n",
    "        unique = len(df[column].unique())\n",
    "        \n",
    "        result = f\"{i:02} | Columna: {column:.<30} | {unique:9,.2f} registros unicos\"\n",
    "        # print(f\"{i} Columna:\",\"{:<}\".format(column),\" -> registros unicos: \",unique)\n",
    "        print(result)\n",
    "\n",
    "report_uniques(dataframes_list[-1])"
   ]
  },
  {
   "cell_type": "code",
   "execution_count": null,
   "metadata": {},
   "outputs": [],
   "source": []
  }
 ],
 "metadata": {
  "kernelspec": {
   "display_name": "Python 3",
   "language": "python",
   "name": "python3"
  },
  "language_info": {
   "codemirror_mode": {
    "name": "ipython",
    "version": 3
   },
   "file_extension": ".py",
   "mimetype": "text/x-python",
   "name": "python",
   "nbconvert_exporter": "python",
   "pygments_lexer": "ipython3",
   "version": "3.11.4"
  }
 },
 "nbformat": 4,
 "nbformat_minor": 2
}
