{
 "cells": [
  {
   "cell_type": "code",
   "execution_count": 1,
   "metadata": {},
   "outputs": [],
   "source": [
    "class Tool:\n",
    "    def __init__(self,name,weight):\n",
    "        self.name = name\n",
    "        self.weight = weight\n",
    "    \n",
    "    def __repr__(self):\n",
    "        return f\"Tool ({self.name!r}, {self.weight})\""
   ]
  },
  {
   "cell_type": "code",
   "execution_count": 3,
   "metadata": {},
   "outputs": [],
   "source": [
    "tools = [\n",
    "    Tool(\"level\",3.5),\n",
    "    Tool(\"hammer\",1.25),\n",
    "    Tool(\"screwdriver\",0.5),\n",
    "    Tool(\"chisel\",0.25)\n",
    "]"
   ]
  },
  {
   "cell_type": "code",
   "execution_count": 8,
   "metadata": {},
   "outputs": [
    {
     "name": "stdout",
     "output_type": "stream",
     "text": [
      "[Tool ('level', 3.5), Tool ('hammer', 1.25), Tool ('screwdriver', 0.5), Tool ('chisel', 0.25)]\n"
     ]
    }
   ],
   "source": [
    "print(repr(tools))"
   ]
  },
  {
   "cell_type": "code",
   "execution_count": 10,
   "metadata": {},
   "outputs": [
    {
     "name": "stdout",
     "output_type": "stream",
     "text": [
      "[Tool ('chisel', 0.25), Tool ('hammer', 1.25), Tool ('level', 3.5), Tool ('screwdriver', 0.5)]\n"
     ]
    }
   ],
   "source": [
    "tools.sort(key= lambda x : x.name)\n",
    "print(tools)"
   ]
  }
 ],
 "metadata": {
  "kernelspec": {
   "display_name": "Python 3",
   "language": "python",
   "name": "python3"
  },
  "language_info": {
   "codemirror_mode": {
    "name": "ipython",
    "version": 3
   },
   "file_extension": ".py",
   "mimetype": "text/x-python",
   "name": "python",
   "nbconvert_exporter": "python",
   "pygments_lexer": "ipython3",
   "version": "3.11.4"
  }
 },
 "nbformat": 4,
 "nbformat_minor": 2
}
